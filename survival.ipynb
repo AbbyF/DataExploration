{
 "metadata": {
  "name": "",
  "signature": "sha256:f2dc372a13dc525efbdf95d0323486a548c700527c20c2681f1618e9b4f858af"
 },
 "nbformat": 3,
 "nbformat_minor": 0,
 "worksheets": [
  {
   "cells": [
    {
     "cell_type": "markdown",
     "metadata": {},
     "source": [
      "Survival analysis\n",
      "=================\n",
      "\n",
      "Copyright 2015 Allen Downey\n",
      "\n",
      "License: [Creative Commons Attribution 4.0 International](http://creativecommons.org/licenses/by/4.0/)"
     ]
    },
    {
     "cell_type": "code",
     "collapsed": false,
     "input": [
      "from __future__ import print_function, division\n",
      "\n",
      "import marriage\n",
      "\n",
      "import thinkstats2\n",
      "import thinkplot\n",
      "\n",
      "import pandas as pd\n",
      "import numpy as np\n",
      "\n",
      "import math\n",
      "\n",
      "import matplotlib.pyplot as pyplot\n",
      "from matplotlib import pylab\n",
      "\n",
      "from scipy.interpolate import interp1d\n",
      "from scipy.misc import derivative\n",
      "\n",
      "%matplotlib inline"
     ],
     "language": "python",
     "metadata": {},
     "outputs": [],
     "prompt_number": 2
    },
    {
     "cell_type": "markdown",
     "metadata": {},
     "source": [
      "Load the data:"
     ]
    },
    {
     "cell_type": "code",
     "collapsed": false,
     "input": [
      "resp8 = marriage.ReadFemResp2013()\n",
      "marriage.Validate2013(resp8)\n",
      "\n",
      "resp7 = marriage.ReadFemResp2010()\n",
      "marriage.Validate2010(resp7)\n",
      "\n",
      "resp6 = marriage.ReadFemResp2002()\n",
      "marriage.Validate2002(resp6)\n",
      "\n",
      "resp5 = marriage.ReadFemResp1995()\n",
      "marriage.Validate1995(resp5)\n",
      "\n",
      "resp4 = marriage.ReadFemResp1988()\n",
      "marriage.Validate1988(resp4)\n",
      "\n",
      "resp3 = marriage.ReadFemResp1982()\n",
      "marriage.Validate1982(resp3)"
     ],
     "language": "python",
     "metadata": {},
     "outputs": [],
     "prompt_number": 5
    },
    {
     "cell_type": "markdown",
     "metadata": {},
     "source": [
      "Make a list of DataFrames, one for each cycle:"
     ]
    },
    {
     "cell_type": "code",
     "collapsed": false,
     "input": [
      "resps = [resp8, resp7, resp6, resp5, resp4, resp3]"
     ],
     "language": "python",
     "metadata": {},
     "outputs": [],
     "prompt_number": 6
    },
    {
     "cell_type": "markdown",
     "metadata": {},
     "source": [
      "Make a table showing the number of respondents in each cycle:"
     ]
    },
    {
     "cell_type": "code",
     "collapsed": false,
     "input": [
      "def SummarizeCycle(df):\n",
      "    ages = df.age.min(), df.age.max()\n",
      "    ages= np.array(ages)\n",
      "    \n",
      "    intvws = df.cmintvw.min(), df.cmintvw.max()\n",
      "    intvws = np.array(intvws) / 12 + 1900\n",
      "    \n",
      "    births = df.cmbirth.min(), df.cmbirth.max()\n",
      "    births = np.array(births) / 12 + 1900\n",
      "\n",
      "    print('# & ', intvws.astype(int), '&', len(df), '&', births.astype(int), r'\\\\')\n",
      "    \n",
      "for resp in reversed(resps):\n",
      "    SummarizeCycle(resp)"
     ],
     "language": "python",
     "metadata": {},
     "outputs": [
      {
       "output_type": "stream",
       "stream": "stdout",
       "text": [
        "# &  [1982 1983] & 7969 & [1937 1968] \\\\\n",
        "# &  [1988 1988] & 8450 & [1943 1973] \\\\\n",
        "# &  [1995 1995] & 10847 & [1950 1980] \\\\\n",
        "# &  [2002 2003] & 7643 & [1957 1988] \\\\\n",
        "# &  [2006 2010] & 12279 & [1961 1995] \\\\\n",
        "# &  [2011 2013] & 5601 & [1966 1998] \\\\\n"
       ]
      }
     ],
     "prompt_number": 7
    },
    {
     "cell_type": "markdown",
     "metadata": {},
     "source": [
      "Check for missing values in `agemarry`:"
     ]
    },
    {
     "cell_type": "code",
     "collapsed": false,
     "input": [
      "def CheckAgeVars(df):\n",
      "    print(sum(df[df.evrmarry].agemarry.isnull()))\n",
      "    \n",
      "for resp in resps:\n",
      "    CheckAgeVars(resp)"
     ],
     "language": "python",
     "metadata": {},
     "outputs": [
      {
       "output_type": "stream",
       "stream": "stdout",
       "text": [
        "17\n",
        "16\n",
        "37\n",
        "0\n",
        "0\n",
        "0"
       ]
      },
      {
       "output_type": "stream",
       "stream": "stdout",
       "text": [
        "\n"
       ]
      }
     ],
     "prompt_number": 8
    },
    {
     "cell_type": "markdown",
     "metadata": {},
     "source": [
      "Combine the DataFrames (but remember that this is not resampled properly):"
     ]
    },
    {
     "cell_type": "code",
     "collapsed": false,
     "input": [
      "df = pd.concat(resps, ignore_index=True)\n",
      "len(df)"
     ],
     "language": "python",
     "metadata": {},
     "outputs": [
      {
       "metadata": {},
       "output_type": "pyout",
       "prompt_number": 9,
       "text": [
        "52789"
       ]
      }
     ],
     "prompt_number": 9
    },
    {
     "cell_type": "markdown",
     "metadata": {},
     "source": [
      "Double check missing data:"
     ]
    },
    {
     "cell_type": "code",
     "collapsed": false,
     "input": [
      "df['missing'] = (df.evrmarry & df.agemarry.isnull())\n",
      "sum(df.missing)"
     ],
     "language": "python",
     "metadata": {},
     "outputs": [
      {
       "metadata": {},
       "output_type": "pyout",
       "prompt_number": 10,
       "text": [
        "70"
       ]
      }
     ],
     "prompt_number": 10
    },
    {
     "cell_type": "markdown",
     "metadata": {},
     "source": [
      "Test run the resampling process:"
     ]
    },
    {
     "cell_type": "code",
     "collapsed": false,
     "input": [
      "def ResampleRespsWeighted(resps):\n",
      "    samples = [thinkstats2.ResampleRowsWeighted(resp) \n",
      "               for resp in resps]\n",
      "    sample = pd.concat(samples, ignore_index=True)\n",
      "    return sample\n",
      "\n",
      "sample = ResampleRespsWeighted(resps)"
     ],
     "language": "python",
     "metadata": {},
     "outputs": [],
     "prompt_number": 11
    },
    {
     "cell_type": "markdown",
     "metadata": {},
     "source": [
      "Generate a table with the number of respondents in each cohort (not resampled):"
     ]
    },
    {
     "cell_type": "code",
     "collapsed": false,
     "input": [
      "marriage.DigitizeResp(df)\n",
      "grouped = df.groupby('birth_index')\n",
      "for name, group in iter(grouped):\n",
      "    print(name, '&', len(group), '&', int(group.age.min()), '--', int(group.age_index.max()), '&', len(group[group.evrmarry]), '&', sum(group.missing), r'\\\\')"
     ],
     "language": "python",
     "metadata": {},
     "outputs": [
      {
       "output_type": "stream",
       "stream": "stdout",
       "text": [
        "30 & 325 & 42 -- 44 & 310 & 0 \\\\\n",
        "40 & 3608 & 32 -- 44 & 3275 & 0 \\\\\n",
        "50 & 10631 & 22 -- 44 & 8658 & 10 \\\\\n",
        "60"
       ]
      },
      {
       "output_type": "stream",
       "stream": "stdout",
       "text": [
        " & 14484 & 15 -- 44 & 8421 & 27 \\\\\n",
        "70 & 12083 & 14 -- 43 & 5908 & 25 \\\\\n",
        "80 & 8536 & 14 -- 33 & 2203 & 8 \\\\\n",
        "90 & 3122 & 15 -- 23 & 93 & 0 \\\\\n"
       ]
      }
     ],
     "prompt_number": 12
    },
    {
     "cell_type": "markdown",
     "metadata": {},
     "source": [
      "Use the 30s cohort to demonstrate the simple way to do survival analysis, by computing the survival function using the CDF.\n",
      "\n",
      "$SF(t) = 1 - CDF(t)$"
     ]
    },
    {
     "cell_type": "code",
     "collapsed": false,
     "input": [
      "from marriage import SurvivalFunction\n",
      "\n",
      "def MakeSurvivalFunction(values, label=''):\n",
      "    cdf = thinkstats2.Cdf(values)\n",
      "    xs = cdf.xs\n",
      "    ss = 1 - cdf.ps\n",
      "    return SurvivalFunction(xs, ss, label)"
     ],
     "language": "python",
     "metadata": {},
     "outputs": [],
     "prompt_number": 15
    },
    {
     "cell_type": "markdown",
     "metadata": {},
     "source": [
      "Select the 30s cohort and make the plot."
     ]
    },
    {
     "cell_type": "code",
     "collapsed": false,
     "input": [
      "cohort = grouped.get_group(30)\n",
      "sf = MakeSurvivalFunction(cohort.agemarry_index.fillna(np.inf))\n",
      "\n",
      "thinkplot.PrePlot(2)\n",
      "thinkplot.Plot(sf, label='30s')\n",
      "thinkplot.Config(xlabel='age (years)',\n",
      "                 ylabel='SF(age)',\n",
      "                 xlim=[13, 41])"
     ],
     "language": "python",
     "metadata": {},
     "outputs": [
      {
       "metadata": {},
       "output_type": "display_data",
       "png": "[encoded data removed]",
       "text": [
        "<matplotlib.figure.Figure at 0x7fbe13928f50>"
       ]
      }
     ],
     "prompt_number": 68
    },
    {
     "cell_type": "markdown",
     "metadata": {},
     "source": [
      "Then use the SurvivalFunction to compute the HazardFunction\n",
      "\n",
      "$HF(t) = \\frac{SF(x) - SF(x+1)}{SF(x)}$"
     ]
    },
    {
     "cell_type": "markdown",
     "metadata": {},
     "source": [
      "    def MakeHazardFunction(self, label=''):\n",
      "        \"\"\"Computes the hazard function.\n",
      "\n",
      "        This simple version does not take into account the\n",
      "        spacing between the ts.  If the ts are not equally\n",
      "        spaced, it is not valid to compare the magnitude of\n",
      "        the hazard function across different time steps.\n",
      "\n",
      "        label: string\n",
      "\n",
      "        returns: HazardFunction object\n",
      "        \"\"\"\n",
      "        lams = pd.Series(index=self.ts)\n",
      "\n",
      "        prev = 1.0\n",
      "        for t, s in zip(self.ts, self.ss):\n",
      "            lams[t] = (prev - s) / prev\n",
      "            prev = s\n",
      "\n",
      "        return HazardFunction(lams, label=label)"
     ]
    },
    {
     "cell_type": "code",
     "collapsed": false,
     "input": [
      "hf = sf.MakeHazardFunction()\n",
      "\n",
      "thinkplot.Plot(hf, label='30s')\n",
      "thinkplot.Config(xlabel='age (years)',\n",
      "                 ylabel='HF(age)',\n",
      "                 xlim=[13, 41])"
     ],
     "language": "python",
     "metadata": {},
     "outputs": [
      {
       "metadata": {},
       "output_type": "display_data",
       "png": "[encoded data removed]",
       "text": [
        "<matplotlib.figure.Figure at 0x7fbe1084f210>"
       ]
      }
     ],
     "prompt_number": 28
    },
    {
     "cell_type": "markdown",
     "metadata": {},
     "source": [
      "Here's the function that implements Kaplan-Meier estimation (http://en.wikipedia.org/wiki/Kaplan-Meier_estimator)\n",
      "\n",
      "The kernel of the algorithm is\n",
      "\n",
      "$HF(t) = \\mbox{ended}(t) / \\mbox{at_risk}(t)$ "
     ]
    },
    {
     "cell_type": "code",
     "collapsed": false,
     "input": [
      "from collections import Counter\n",
      "\n",
      "def EstimateHazard(complete, ongoing, label=''):\n",
      "    \"\"\"Estimates the hazard function by Kaplan-Meier.\n",
      "\n",
      "\n",
      "    complete: list of complete lifetimes\n",
      "    ongoing: list of ongoing lifetimes\n",
      "    label: string\n",
      "    \"\"\"\n",
      "    hist_complete = Counter(complete)\n",
      "    hist_ongoing = Counter(ongoing)\n",
      "\n",
      "    ts = list(hist_complete | hist_ongoing)\n",
      "    ts.sort()\n",
      "\n",
      "    at_risk = len(complete) + len(ongoing)\n",
      "\n",
      "    lams = pd.Series(index=ts)\n",
      "    for t in ts:\n",
      "        ended = hist_complete[t]\n",
      "        censored = hist_ongoing[t]\n",
      "\n",
      "        lams[t] = ended / at_risk\n",
      "        at_risk -= ended + censored\n",
      "\n",
      "    return marriage.HazardFunction(lams, label=label)"
     ],
     "language": "python",
     "metadata": {},
     "outputs": [],
     "prompt_number": 66
    },
    {
     "cell_type": "markdown",
     "metadata": {},
     "source": [
      "As an example, I select the 40s cohort, extract `complete` and `ongoing`, and estimate the hazard function."
     ]
    },
    {
     "cell_type": "code",
     "collapsed": false,
     "input": [
      "sample = marriage.ResampleResps(resps)\n",
      "grouped = sample.groupby('birth_index')\n",
      "group = grouped.get_group(40)\n",
      "\n",
      "complete = group[group.evrmarry].agemarry_index\n",
      "ongoing = group[~group.evrmarry].age_index\n",
      "\n",
      "print('age', 'atRisk', 'ended', 'censor', 'hf', sep='\\t')\n",
      "hf = EstimateHazard(complete, ongoing, label='', verbose=True)"
     ],
     "language": "python",
     "metadata": {},
     "outputs": [
      {
       "output_type": "stream",
       "stream": "stdout",
       "text": [
        "age\tatRisk\tended\tcensor\thf\n",
        "14.0\t4018\t81\t0\t0.0201592832255\n",
        "15.0\t3937\t122\t0\t0.0309880619761\n",
        "16.0\t3815\t191\t0\t0.0500655307995\n",
        "17.0\t3624\t285\t0\t0.078642384106\n",
        "18.0\t3339\t441\t0\t0.132075471698\n",
        "19.0\t2898\t512\t0\t0.176673567978\n",
        "20.0\t2386\t488\t0\t0.204526404023\n",
        "21.0\t1898\t394\t0\t0.207586933614\n",
        "22.0\t1504\t291\t0\t0.193484042553\n",
        "23.0\t1213\t205\t0\t0.169002473207\n",
        "24.0\t1008\t161\t0\t0.159722222222\n",
        "25.0\t847\t110\t0\t0.12987012987\n",
        "26.0\t737\t94\t0\t0.127544097693\n",
        "27.0\t643\t80\t0\t0.124416796267\n",
        "28.0\t563\t50\t0\t0.088809946714\n",
        "29.0\t513\t41\t0\t0.0799220272904\n",
        "30.0\t472\t45\t0\t0.0953389830508\n",
        "31.0\t427\t34\t3\t0.07962529274\n",
        "32.0\t390\t30\t8\t0.0769230769231\n",
        "33.0\t352\t11\t23\t0.03125\n",
        "34.0\t318\t11\t27\t0.0345911949686\n",
        "35.0\t280\t12\t27\t0.0428571428571\n",
        "36.0\t241\t1\t20\t0.00414937759336\n",
        "37.0\t220\t3\t14\t0.0136363636364\n",
        "38.0\t203\t7\t31\t0.0344827586207\n",
        "39.0\t165\t7\t38\t0.0424242424242\n",
        "40.0\t120\t3\t37\t0.025\n",
        "41.0\t80\t0\t24\t0.0\n",
        "42.0\t56\t0\t24\t0.0\n",
        "43.0\t32\t0\t20\t0.0\n",
        "44.0\t12\t0\t12\t0.0\n"
       ]
      }
     ],
     "prompt_number": 67
    },
    {
     "cell_type": "markdown",
     "metadata": {},
     "source": [
      "Here's what the hazard function looks like."
     ]
    },
    {
     "cell_type": "code",
     "collapsed": false,
     "input": [
      "thinkplot.PrePlot(1)\n",
      "thinkplot.Plot(hf, label='40s')\n",
      "thinkplot.Config(xlabel='age (years)',\n",
      "                 ylabel='HF(age)',\n",
      "                 xlim=[13, 45])"
     ],
     "language": "python",
     "metadata": {},
     "outputs": [
      {
       "metadata": {},
       "output_type": "display_data",
       "png": "[encoded data removed]",
       "text": [
        "<matplotlib.figure.Figure at 0x7fbe10805850>"
       ]
      }
     ],
     "prompt_number": 65
    },
    {
     "cell_type": "markdown",
     "metadata": {},
     "source": [
      "Given the hazard function, we can compute the survival function as a cumulative product.\n",
      "\n",
      "$SF(t) = \\prod_{t_i < t}[1 - HF(t)]$\n",
      "\n",
      "In order to survive until $t$, you have to not die at each time prior to $t$."
     ]
    },
    {
     "cell_type": "markdown",
     "metadata": {},
     "source": [
      "    # in class HazardFunction\n",
      "    def MakeSurvival(self, label=''):\n",
      "        \"\"\"Makes the survival function.\n",
      "\n",
      "        returns: SurvivalFunction\n",
      "        \"\"\"\n",
      "        series = (1 - self.series).cumprod()\n",
      "        ts = series.index.values\n",
      "        ss = series.values\n",
      "        return SurvivalFunction(ts, ss, label=label)\n"
     ]
    },
    {
     "cell_type": "markdown",
     "metadata": {},
     "source": [
      "Here's the same thing encapsulated in a function."
     ]
    },
    {
     "cell_type": "code",
     "collapsed": false,
     "input": [
      "def EstimateSurvival(resp, cutoff=None):\n",
      "    \"\"\"Estimates the survival curve.\n",
      "\n",
      "    resp: DataFrame of respondents\n",
      "    cutoff: where to truncate the estimated functions\n",
      "\n",
      "    returns: pair of HazardFunction, SurvivalFunction\n",
      "    \"\"\"\n",
      "    complete = resp[resp.evrmarry].agemarry_index\n",
      "    ongoing = resp[~resp.evrmarry].age_index\n",
      "\n",
      "    hf = EstimateHazard(complete, ongoing, jitter=0)\n",
      "    if cutoff:\n",
      "        hf.Truncate(cutoff)\n",
      "    sf = hf.MakeSurvival()\n",
      "\n",
      "    return hf, sf"
     ],
     "language": "python",
     "metadata": {},
     "outputs": [],
     "prompt_number": 39
    },
    {
     "cell_type": "markdown",
     "metadata": {},
     "source": [
      "Now we can iterate through the cohorts and plot the survival function for each."
     ]
    },
    {
     "cell_type": "code",
     "collapsed": false,
     "input": [
      "sample = marriage.ResampleResps(resps)\n",
      "grouped = sample.groupby('birth_index')\n",
      "\n",
      "cutoffs = {70:43, 80:33, 90:23}\n",
      "cohorts = [90, 80, 70, 60, 50, 40]\n",
      "\n",
      "thinkplot.PrePlot(len(cohorts))\n",
      "for cohort in cohorts:\n",
      "    group = grouped.get_group(cohort)\n",
      "    cutoff = cutoffs.get(cohort)\n",
      "    hf, sf = EstimateSurvival(group, cutoff)\n",
      "\n",
      "    thinkplot.Plot(sf, label=cohort)\n",
      "             \n",
      "thinkplot.Config(xlabel='age (years)',\n",
      "                 ylabel='SF(age)')"
     ],
     "language": "python",
     "metadata": {},
     "outputs": [
      {
       "metadata": {},
       "output_type": "display_data",
       "png": "[encoded data removed]",
       "text": [
        "<matplotlib.figure.Figure at 0x7fbe10856d10>"
       ]
      }
     ],
     "prompt_number": 52
    },
    {
     "cell_type": "markdown",
     "metadata": {},
     "source": [
      "A couple of observations:\n",
      "\n",
      "1) People are getting married later and later.\n",
      "\n",
      "2) In the first few cohorts the fraction of people who never married was increasing only slowly.  It looks like that might be accelerating in the more recent cohorts.\n",
      "\n",
      "Note that this is based on resampled data, so it will look slightly different each time.  By running several iteration, we can quantify variability due to sampling.  It turns out to be quite small."
     ]
    },
    {
     "cell_type": "code",
     "collapsed": false,
     "input": [],
     "language": "python",
     "metadata": {},
     "outputs": []
    }
   ],
   "metadata": {}
  }
 ]
}