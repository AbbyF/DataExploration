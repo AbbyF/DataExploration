{
 "metadata": {
  "name": "",
  "signature": "sha256:53ba1af83eaf27d21326b5e1148715c9f19a3d9f7b10ffdc04817b6dd13a1050"
 },
 "nbformat": 3,
 "nbformat_minor": 0,
 "worksheets": [
  {
   "cells": [
    {
     "cell_type": "markdown",
     "metadata": {},
     "source": [
      "Regression\n",
      "====================\n",
      "\n",
      "Copyright 2015 Allen Downey\n",
      "\n",
      "License: [Creative Commons Attribution 4.0 International](http://creativecommons.org/licenses/by/4.0/)"
     ]
    },
    {
     "cell_type": "code",
     "collapsed": false,
     "input": [
      "from __future__ import print_function, division\n",
      "\n",
      "import numpy as np\n",
      "import pandas as pd\n",
      "\n",
      "import first\n",
      "import thinkstats2\n",
      "import thinkplot\n",
      "\n",
      "%matplotlib inline"
     ],
     "language": "python",
     "metadata": {},
     "outputs": [],
     "prompt_number": 49
    },
    {
     "cell_type": "markdown",
     "metadata": {},
     "source": [
      "Let's load up the NSFG data again."
     ]
    },
    {
     "cell_type": "code",
     "collapsed": false,
     "input": [
      "live, firsts, others = first.MakeFrames()\n",
      "live.shape"
     ],
     "language": "python",
     "metadata": {},
     "outputs": [
      {
       "metadata": {},
       "output_type": "pyout",
       "prompt_number": 29,
       "text": [
        "(9148, 244)"
       ]
      }
     ],
     "prompt_number": 29
    },
    {
     "cell_type": "markdown",
     "metadata": {},
     "source": [
      "And select live, full-term births."
     ]
    },
    {
     "cell_type": "code",
     "collapsed": false,
     "input": [
      "live = live[live.prglngth>=37]\n",
      "live.shape"
     ],
     "language": "python",
     "metadata": {},
     "outputs": [
      {
       "metadata": {},
       "output_type": "pyout",
       "prompt_number": 30,
       "text": [
        "(8001, 244)"
       ]
      }
     ],
     "prompt_number": 30
    },
    {
     "cell_type": "markdown",
     "metadata": {},
     "source": [
      "And drop rows with missing data (just for the variables we want)."
     ]
    },
    {
     "cell_type": "code",
     "collapsed": false,
     "input": [
      "live = live.dropna(subset=['agepreg', 'totalwgt_lb'])\n",
      "live.shape"
     ],
     "language": "python",
     "metadata": {},
     "outputs": [
      {
       "metadata": {},
       "output_type": "pyout",
       "prompt_number": 31,
       "text": [
        "(7912, 244)"
       ]
      }
     ],
     "prompt_number": 31
    },
    {
     "cell_type": "markdown",
     "metadata": {},
     "source": [
      "Check a few rows:"
     ]
    },
    {
     "cell_type": "code",
     "collapsed": false,
     "input": [
      "live.head()"
     ],
     "language": "python",
     "metadata": {},
     "outputs": [
      {
       "html": [
        "<div style=\"max-height:1000px;max-width:1500px;overflow:auto;\">\n",
        "<table border=\"1\" class=\"dataframe\">\n",
        "  <thead>\n",
        "    <tr style=\"text-align: right;\">\n",
        "      <th></th>\n",
        "      <th>caseid</th>\n",
        "      <th>pregordr</th>\n",
        "      <th>howpreg_n</th>\n",
        "      <th>howpreg_p</th>\n",
        "      <th>moscurrp</th>\n",
        "      <th>nowprgdk</th>\n",
        "      <th>pregend1</th>\n",
        "      <th>pregend2</th>\n",
        "      <th>nbrnaliv</th>\n",
        "      <th>multbrth</th>\n",
        "      <th>...</th>\n",
        "      <th>laborfor_i</th>\n",
        "      <th>religion_i</th>\n",
        "      <th>metro_i</th>\n",
        "      <th>basewgt</th>\n",
        "      <th>adj_mod_basewgt</th>\n",
        "      <th>finalwgt</th>\n",
        "      <th>secu_p</th>\n",
        "      <th>sest</th>\n",
        "      <th>cmintvw</th>\n",
        "      <th>totalwgt_lb</th>\n",
        "    </tr>\n",
        "  </thead>\n",
        "  <tbody>\n",
        "    <tr>\n",
        "      <th>0</th>\n",
        "      <td> 1</td>\n",
        "      <td> 1</td>\n",
        "      <td>NaN</td>\n",
        "      <td>NaN</td>\n",
        "      <td>NaN</td>\n",
        "      <td>NaN</td>\n",
        "      <td> 6</td>\n",
        "      <td>NaN</td>\n",
        "      <td> 1</td>\n",
        "      <td>NaN</td>\n",
        "      <td>...</td>\n",
        "      <td> 0</td>\n",
        "      <td> 0</td>\n",
        "      <td> 0</td>\n",
        "      <td> 3410.389399</td>\n",
        "      <td> 3869.349602</td>\n",
        "      <td>  6448.271112</td>\n",
        "      <td> 2</td>\n",
        "      <td>  9</td>\n",
        "      <td>NaN</td>\n",
        "      <td> 8.8125</td>\n",
        "    </tr>\n",
        "    <tr>\n",
        "      <th>1</th>\n",
        "      <td> 1</td>\n",
        "      <td> 2</td>\n",
        "      <td>NaN</td>\n",
        "      <td>NaN</td>\n",
        "      <td>NaN</td>\n",
        "      <td>NaN</td>\n",
        "      <td> 6</td>\n",
        "      <td>NaN</td>\n",
        "      <td> 1</td>\n",
        "      <td>NaN</td>\n",
        "      <td>...</td>\n",
        "      <td> 0</td>\n",
        "      <td> 0</td>\n",
        "      <td> 0</td>\n",
        "      <td> 3410.389399</td>\n",
        "      <td> 3869.349602</td>\n",
        "      <td>  6448.271112</td>\n",
        "      <td> 2</td>\n",
        "      <td>  9</td>\n",
        "      <td>NaN</td>\n",
        "      <td> 7.8750</td>\n",
        "    </tr>\n",
        "    <tr>\n",
        "      <th>2</th>\n",
        "      <td> 2</td>\n",
        "      <td> 1</td>\n",
        "      <td>NaN</td>\n",
        "      <td>NaN</td>\n",
        "      <td>NaN</td>\n",
        "      <td>NaN</td>\n",
        "      <td> 5</td>\n",
        "      <td>NaN</td>\n",
        "      <td> 3</td>\n",
        "      <td>  5</td>\n",
        "      <td>...</td>\n",
        "      <td> 0</td>\n",
        "      <td> 0</td>\n",
        "      <td> 0</td>\n",
        "      <td> 7226.301740</td>\n",
        "      <td> 8567.549110</td>\n",
        "      <td> 12999.542264</td>\n",
        "      <td> 2</td>\n",
        "      <td> 12</td>\n",
        "      <td>NaN</td>\n",
        "      <td> 9.1250</td>\n",
        "    </tr>\n",
        "    <tr>\n",
        "      <th>3</th>\n",
        "      <td> 2</td>\n",
        "      <td> 2</td>\n",
        "      <td>NaN</td>\n",
        "      <td>NaN</td>\n",
        "      <td>NaN</td>\n",
        "      <td>NaN</td>\n",
        "      <td> 6</td>\n",
        "      <td>NaN</td>\n",
        "      <td> 1</td>\n",
        "      <td>NaN</td>\n",
        "      <td>...</td>\n",
        "      <td> 0</td>\n",
        "      <td> 0</td>\n",
        "      <td> 0</td>\n",
        "      <td> 7226.301740</td>\n",
        "      <td> 8567.549110</td>\n",
        "      <td> 12999.542264</td>\n",
        "      <td> 2</td>\n",
        "      <td> 12</td>\n",
        "      <td>NaN</td>\n",
        "      <td> 7.0000</td>\n",
        "    </tr>\n",
        "    <tr>\n",
        "      <th>4</th>\n",
        "      <td> 2</td>\n",
        "      <td> 3</td>\n",
        "      <td>NaN</td>\n",
        "      <td>NaN</td>\n",
        "      <td>NaN</td>\n",
        "      <td>NaN</td>\n",
        "      <td> 6</td>\n",
        "      <td>NaN</td>\n",
        "      <td> 1</td>\n",
        "      <td>NaN</td>\n",
        "      <td>...</td>\n",
        "      <td> 0</td>\n",
        "      <td> 0</td>\n",
        "      <td> 0</td>\n",
        "      <td> 7226.301740</td>\n",
        "      <td> 8567.549110</td>\n",
        "      <td> 12999.542264</td>\n",
        "      <td> 2</td>\n",
        "      <td> 12</td>\n",
        "      <td>NaN</td>\n",
        "      <td> 6.1875</td>\n",
        "    </tr>\n",
        "  </tbody>\n",
        "</table>\n",
        "<p>5 rows \u00d7 244 columns</p>\n",
        "</div>"
       ],
       "metadata": {},
       "output_type": "pyout",
       "prompt_number": 32,
       "text": [
        "   caseid  pregordr  howpreg_n  howpreg_p  moscurrp  nowprgdk  pregend1  \\\n",
        "0       1         1        NaN        NaN       NaN       NaN         6   \n",
        "1       1         2        NaN        NaN       NaN       NaN         6   \n",
        "2       2         1        NaN        NaN       NaN       NaN         5   \n",
        "3       2         2        NaN        NaN       NaN       NaN         6   \n",
        "4       2         3        NaN        NaN       NaN       NaN         6   \n",
        "\n",
        "   pregend2  nbrnaliv  multbrth     ...       laborfor_i  religion_i  metro_i  \\\n",
        "0       NaN         1       NaN     ...                0           0        0   \n",
        "1       NaN         1       NaN     ...                0           0        0   \n",
        "2       NaN         3         5     ...                0           0        0   \n",
        "3       NaN         1       NaN     ...                0           0        0   \n",
        "4       NaN         1       NaN     ...                0           0        0   \n",
        "\n",
        "       basewgt  adj_mod_basewgt      finalwgt  secu_p  sest  cmintvw  \\\n",
        "0  3410.389399      3869.349602   6448.271112       2     9      NaN   \n",
        "1  3410.389399      3869.349602   6448.271112       2     9      NaN   \n",
        "2  7226.301740      8567.549110  12999.542264       2    12      NaN   \n",
        "3  7226.301740      8567.549110  12999.542264       2    12      NaN   \n",
        "4  7226.301740      8567.549110  12999.542264       2    12      NaN   \n",
        "\n",
        "   totalwgt_lb  \n",
        "0       8.8125  \n",
        "1       7.8750  \n",
        "2       9.1250  \n",
        "3       7.0000  \n",
        "4       6.1875  \n",
        "\n",
        "[5 rows x 244 columns]"
       ]
      }
     ],
     "prompt_number": 32
    },
    {
     "cell_type": "markdown",
     "metadata": {},
     "source": [
      "And summarize a few variables."
     ]
    },
    {
     "cell_type": "code",
     "collapsed": false,
     "input": [
      "live[['agepreg', 'totalwgt_lb']].describe()"
     ],
     "language": "python",
     "metadata": {},
     "outputs": [
      {
       "html": [
        "<div style=\"max-height:1000px;max-width:1500px;overflow:auto;\">\n",
        "<table border=\"1\" class=\"dataframe\">\n",
        "  <thead>\n",
        "    <tr style=\"text-align: right;\">\n",
        "      <th></th>\n",
        "      <th>agepreg</th>\n",
        "      <th>totalwgt_lb</th>\n",
        "    </tr>\n",
        "  </thead>\n",
        "  <tbody>\n",
        "    <tr>\n",
        "      <th>count</th>\n",
        "      <td> 8781.000000</td>\n",
        "      <td> 8781.000000</td>\n",
        "    </tr>\n",
        "    <tr>\n",
        "      <th>mean</th>\n",
        "      <td>   24.966237</td>\n",
        "      <td>    7.361391</td>\n",
        "    </tr>\n",
        "    <tr>\n",
        "      <th>std</th>\n",
        "      <td>    5.553850</td>\n",
        "      <td>    1.271217</td>\n",
        "    </tr>\n",
        "    <tr>\n",
        "      <th>min</th>\n",
        "      <td>   10.830000</td>\n",
        "      <td>    0.125000</td>\n",
        "    </tr>\n",
        "    <tr>\n",
        "      <th>25%</th>\n",
        "      <td>   20.580000</td>\n",
        "      <td>    6.562500</td>\n",
        "    </tr>\n",
        "    <tr>\n",
        "      <th>50%</th>\n",
        "      <td>   24.330000</td>\n",
        "      <td>    7.375000</td>\n",
        "    </tr>\n",
        "    <tr>\n",
        "      <th>75%</th>\n",
        "      <td>   28.910000</td>\n",
        "      <td>    8.125000</td>\n",
        "    </tr>\n",
        "    <tr>\n",
        "      <th>max</th>\n",
        "      <td>   44.080000</td>\n",
        "      <td>   15.437500</td>\n",
        "    </tr>\n",
        "  </tbody>\n",
        "</table>\n",
        "</div>"
       ],
       "metadata": {},
       "output_type": "pyout",
       "prompt_number": 15,
       "text": [
        "           agepreg  totalwgt_lb\n",
        "count  8781.000000  8781.000000\n",
        "mean     24.966237     7.361391\n",
        "std       5.553850     1.271217\n",
        "min      10.830000     0.125000\n",
        "25%      20.580000     6.562500\n",
        "50%      24.330000     7.375000\n",
        "75%      28.910000     8.125000\n",
        "max      44.080000    15.437500"
       ]
      }
     ],
     "prompt_number": 15
    },
    {
     "cell_type": "markdown",
     "metadata": {},
     "source": [
      "Here's a scatterplot of age and birthweight, with parameters tuned to avoid saturation."
     ]
    },
    {
     "cell_type": "code",
     "collapsed": false,
     "input": [
      "ages = live.agepreg\n",
      "weights = live.totalwgt_lb\n",
      "thinkplot.Scatter(ages, weights, alpha=0.1, s=15)\n",
      "thinkplot.Config(xlabel='age (years)',\n",
      "                 ylabel='weight (lbs)',\n",
      "                 xlim=[10, 45],\n",
      "                 ylim=[0, 15],\n",
      "                 legend=False)"
     ],
     "language": "python",
     "metadata": {},
     "outputs": [
      {
       "metadata": {},
       "output_type": "display_data",
       "png": "[encoded data removed]",
       "text": [
        "<matplotlib.figure.Figure at 0x7efee94d1cd0>"
       ]
      }
     ],
     "prompt_number": 20
    },
    {
     "cell_type": "markdown",
     "metadata": {},
     "source": [
      "Mean of mother's age:"
     ]
    },
    {
     "cell_type": "code",
     "collapsed": false,
     "input": [
      "live['agepreg'].mean()"
     ],
     "language": "python",
     "metadata": {},
     "outputs": [
      {
       "metadata": {},
       "output_type": "pyout",
       "prompt_number": 7,
       "text": [
        "24.966237330600158"
       ]
      }
     ],
     "prompt_number": 7
    },
    {
     "cell_type": "markdown",
     "metadata": {},
     "source": [
      "Mean birthweight:"
     ]
    },
    {
     "cell_type": "code",
     "collapsed": false,
     "input": [
      "live['totalwgt_lb'].mean()"
     ],
     "language": "python",
     "metadata": {},
     "outputs": [
      {
       "metadata": {},
       "output_type": "pyout",
       "prompt_number": 8,
       "text": [
        "7.3613910716319326"
       ]
      }
     ],
     "prompt_number": 8
    },
    {
     "cell_type": "markdown",
     "metadata": {},
     "source": [
      "And the coefficient of correlation:"
     ]
    },
    {
     "cell_type": "code",
     "collapsed": false,
     "input": [
      "thinkstats2.Corr(ages, weights)"
     ],
     "language": "python",
     "metadata": {},
     "outputs": [
      {
       "metadata": {},
       "output_type": "pyout",
       "prompt_number": 33,
       "text": [
        "0.072988235388114067"
       ]
      }
     ],
     "prompt_number": 33
    },
    {
     "cell_type": "markdown",
     "metadata": {},
     "source": [
      "The Pandas `corr` function gets the same result:"
     ]
    },
    {
     "cell_type": "code",
     "collapsed": false,
     "input": [
      "live['totalwgt_lb'].corr(live['agepreg'])"
     ],
     "language": "python",
     "metadata": {},
     "outputs": [
      {
       "metadata": {},
       "output_type": "pyout",
       "prompt_number": 9,
       "text": [
        "0.072988235388114206"
       ]
      }
     ],
     "prompt_number": 9
    },
    {
     "cell_type": "markdown",
     "metadata": {},
     "source": [
      "To see the relationship more clearly, we can group mother's age into 3-year bins and plot percentiles of birth weight for each bin."
     ]
    },
    {
     "cell_type": "code",
     "collapsed": false,
     "input": [
      "bins = np.arange(10, 48, 3)\n",
      "indices = np.digitize(live.agepreg, bins)\n",
      "groups = live.groupby(indices)\n",
      "\n",
      "ages = [group.agepreg.mean() for i, group in groups][1:-1]\n",
      "cdfs = [thinkstats2.Cdf(group.totalwgt_lb) for i, group in groups][1:-1]\n",
      "\n",
      "thinkplot.PrePlot(5)\n",
      "for percent in [90, 75, 50, 25, 10]:\n",
      "    weights = [cdf.Percentile(percent) for cdf in cdfs]\n",
      "    label = '%dth' % percent\n",
      "    thinkplot.Plot(ages, weights, label=label)\n",
      "\n",
      "thinkplot.Config(xlabel=\"mother's age (years)\",\n",
      "                 ylabel='birth weight (lbs)',\n",
      "                 xlim=[14, 50],\n",
      "                 legend=True)"
     ],
     "language": "python",
     "metadata": {},
     "outputs": [
      {
       "metadata": {},
       "output_type": "display_data",
       "png": "[encoded data removed]",
       "text": [
        "<matplotlib.figure.Figure at 0x7efeea72ec90>"
       ]
      }
     ],
     "prompt_number": 40
    },
    {
     "cell_type": "markdown",
     "metadata": {},
     "source": [
      "The first and last points are not very reliable, because they represent fewer data points.\n",
      "\n",
      "It looks like there is a generally positive relationshop between birth weight and mother's age, possibly leveling or dropping for older mothers.\n",
      "\n",
      "We can get more information about the mothers by reading the respondents file, which contains one row per respondent."
     ]
    },
    {
     "cell_type": "code",
     "collapsed": false,
     "input": [
      "def ReadFemResp(dct_file='2002FemResp.dct',\n",
      "                dat_file='2002FemResp.dat.gz',\n",
      "                nrows=None):\n",
      "    \"\"\"Reads the NSFG respondent data.\n",
      "\n",
      "    dct_file: string file name\n",
      "    dat_file: string file name\n",
      "\n",
      "    returns: DataFrame\n",
      "    \"\"\"\n",
      "    dct = thinkstats2.ReadStataDct(dct_file)\n",
      "    df = dct.ReadFixedWidth(dat_file, compression='gzip', nrows=nrows)\n",
      "    return df"
     ],
     "language": "python",
     "metadata": {},
     "outputs": [],
     "prompt_number": 41
    },
    {
     "cell_type": "markdown",
     "metadata": {},
     "source": [
      "There are 7643 respondents and 3087 variables about each."
     ]
    },
    {
     "cell_type": "code",
     "collapsed": false,
     "input": [
      "resp = ReadFemResp()\n",
      "resp.shape"
     ],
     "language": "python",
     "metadata": {},
     "outputs": [
      {
       "metadata": {},
       "output_type": "pyout",
       "prompt_number": 57,
       "text": [
        "(7643, 3087)"
       ]
      }
     ],
     "prompt_number": 57
    },
    {
     "cell_type": "markdown",
     "metadata": {},
     "source": [
      "If we use the `caseid` variable as the index, we can look up respondents efficiently by id.\n",
      "\n",
      "Here's what the first few rows look like:"
     ]
    },
    {
     "cell_type": "code",
     "collapsed": false,
     "input": [
      "resp.index = resp.caseid\n",
      "resp.head()"
     ],
     "language": "python",
     "metadata": {},
     "outputs": [
      {
       "html": [
        "<div style=\"max-height:1000px;max-width:1500px;overflow:auto;\">\n",
        "<table border=\"1\" class=\"dataframe\">\n",
        "  <thead>\n",
        "    <tr style=\"text-align: right;\">\n",
        "      <th></th>\n",
        "      <th>caseid</th>\n",
        "      <th>rscrinf</th>\n",
        "      <th>rdormres</th>\n",
        "      <th>rostscrn</th>\n",
        "      <th>rscreenhisp</th>\n",
        "      <th>rscreenrace</th>\n",
        "      <th>age_a</th>\n",
        "      <th>age_r</th>\n",
        "      <th>cmbirth</th>\n",
        "      <th>agescrn</th>\n",
        "      <th>...</th>\n",
        "      <th>pubassis_i</th>\n",
        "      <th>basewgt</th>\n",
        "      <th>adj_mod_basewgt</th>\n",
        "      <th>finalwgt</th>\n",
        "      <th>secu_r</th>\n",
        "      <th>sest</th>\n",
        "      <th>cmintvw</th>\n",
        "      <th>cmlstyr</th>\n",
        "      <th>screentime</th>\n",
        "      <th>intvlngth</th>\n",
        "    </tr>\n",
        "    <tr>\n",
        "      <th>caseid</th>\n",
        "      <th></th>\n",
        "      <th></th>\n",
        "      <th></th>\n",
        "      <th></th>\n",
        "      <th></th>\n",
        "      <th></th>\n",
        "      <th></th>\n",
        "      <th></th>\n",
        "      <th></th>\n",
        "      <th></th>\n",
        "      <th></th>\n",
        "      <th></th>\n",
        "      <th></th>\n",
        "      <th></th>\n",
        "      <th></th>\n",
        "      <th></th>\n",
        "      <th></th>\n",
        "      <th></th>\n",
        "      <th></th>\n",
        "      <th></th>\n",
        "      <th></th>\n",
        "    </tr>\n",
        "  </thead>\n",
        "  <tbody>\n",
        "    <tr>\n",
        "      <th>2298 </th>\n",
        "      <td>  2298</td>\n",
        "      <td> 1</td>\n",
        "      <td> 5</td>\n",
        "      <td> 5</td>\n",
        "      <td> 1</td>\n",
        "      <td> 5</td>\n",
        "      <td> 27</td>\n",
        "      <td> 27</td>\n",
        "      <td>  902</td>\n",
        "      <td> 27</td>\n",
        "      <td>...</td>\n",
        "      <td> 0</td>\n",
        "      <td> 3247.916977</td>\n",
        "      <td> 5123.759559</td>\n",
        "      <td> 5556.717241</td>\n",
        "      <td> 2</td>\n",
        "      <td> 18</td>\n",
        "      <td> 1234</td>\n",
        "      <td> 1222</td>\n",
        "      <td> 18:26:36</td>\n",
        "      <td> 110.492667</td>\n",
        "    </tr>\n",
        "    <tr>\n",
        "      <th>5012 </th>\n",
        "      <td>  5012</td>\n",
        "      <td> 1</td>\n",
        "      <td> 5</td>\n",
        "      <td> 1</td>\n",
        "      <td> 5</td>\n",
        "      <td> 5</td>\n",
        "      <td> 42</td>\n",
        "      <td> 42</td>\n",
        "      <td>  718</td>\n",
        "      <td> 42</td>\n",
        "      <td>...</td>\n",
        "      <td> 0</td>\n",
        "      <td> 2335.279149</td>\n",
        "      <td> 2846.799490</td>\n",
        "      <td> 4744.191350</td>\n",
        "      <td> 2</td>\n",
        "      <td> 18</td>\n",
        "      <td> 1233</td>\n",
        "      <td> 1221</td>\n",
        "      <td> 16:30:59</td>\n",
        "      <td>  64.294000</td>\n",
        "    </tr>\n",
        "    <tr>\n",
        "      <th>11586</th>\n",
        "      <td> 11586</td>\n",
        "      <td> 1</td>\n",
        "      <td> 5</td>\n",
        "      <td> 1</td>\n",
        "      <td> 5</td>\n",
        "      <td> 5</td>\n",
        "      <td> 43</td>\n",
        "      <td> 43</td>\n",
        "      <td>  708</td>\n",
        "      <td> 43</td>\n",
        "      <td>...</td>\n",
        "      <td> 0</td>\n",
        "      <td> 2335.279149</td>\n",
        "      <td> 2846.799490</td>\n",
        "      <td> 4744.191350</td>\n",
        "      <td> 2</td>\n",
        "      <td> 18</td>\n",
        "      <td> 1234</td>\n",
        "      <td> 1222</td>\n",
        "      <td> 18:19:09</td>\n",
        "      <td>  75.149167</td>\n",
        "    </tr>\n",
        "    <tr>\n",
        "      <th>6794 </th>\n",
        "      <td>  6794</td>\n",
        "      <td> 5</td>\n",
        "      <td> 5</td>\n",
        "      <td> 4</td>\n",
        "      <td> 1</td>\n",
        "      <td> 5</td>\n",
        "      <td> 15</td>\n",
        "      <td> 15</td>\n",
        "      <td> 1042</td>\n",
        "      <td> 15</td>\n",
        "      <td>...</td>\n",
        "      <td> 0</td>\n",
        "      <td> 3783.152221</td>\n",
        "      <td> 5071.464231</td>\n",
        "      <td> 5923.977368</td>\n",
        "      <td> 2</td>\n",
        "      <td> 18</td>\n",
        "      <td> 1234</td>\n",
        "      <td> 1222</td>\n",
        "      <td> 15:54:43</td>\n",
        "      <td>  28.642833</td>\n",
        "    </tr>\n",
        "    <tr>\n",
        "      <th>616  </th>\n",
        "      <td>   616</td>\n",
        "      <td> 1</td>\n",
        "      <td> 5</td>\n",
        "      <td> 4</td>\n",
        "      <td> 1</td>\n",
        "      <td> 5</td>\n",
        "      <td> 20</td>\n",
        "      <td> 20</td>\n",
        "      <td>  991</td>\n",
        "      <td> 20</td>\n",
        "      <td>...</td>\n",
        "      <td> 0</td>\n",
        "      <td> 5341.329968</td>\n",
        "      <td> 6437.335772</td>\n",
        "      <td> 7229.128072</td>\n",
        "      <td> 2</td>\n",
        "      <td> 18</td>\n",
        "      <td> 1233</td>\n",
        "      <td> 1221</td>\n",
        "      <td> 14:19:44</td>\n",
        "      <td>  69.502667</td>\n",
        "    </tr>\n",
        "  </tbody>\n",
        "</table>\n",
        "<p>5 rows \u00d7 3087 columns</p>\n",
        "</div>"
       ],
       "metadata": {},
       "output_type": "pyout",
       "prompt_number": 58,
       "text": [
        "        caseid  rscrinf  rdormres  rostscrn  rscreenhisp  rscreenrace  age_a  \\\n",
        "caseid                                                                         \n",
        "2298      2298        1         5         5            1            5     27   \n",
        "5012      5012        1         5         1            5            5     42   \n",
        "11586    11586        1         5         1            5            5     43   \n",
        "6794      6794        5         5         4            1            5     15   \n",
        "616        616        1         5         4            1            5     20   \n",
        "\n",
        "        age_r  cmbirth  agescrn     ...      pubassis_i      basewgt  \\\n",
        "caseid                              ...                                \n",
        "2298       27      902       27     ...               0  3247.916977   \n",
        "5012       42      718       42     ...               0  2335.279149   \n",
        "11586      43      708       43     ...               0  2335.279149   \n",
        "6794       15     1042       15     ...               0  3783.152221   \n",
        "616        20      991       20     ...               0  5341.329968   \n",
        "\n",
        "        adj_mod_basewgt     finalwgt  secu_r  sest  cmintvw  cmlstyr  \\\n",
        "caseid                                                                 \n",
        "2298        5123.759559  5556.717241       2    18     1234     1222   \n",
        "5012        2846.799490  4744.191350       2    18     1233     1221   \n",
        "11586       2846.799490  4744.191350       2    18     1234     1222   \n",
        "6794        5071.464231  5923.977368       2    18     1234     1222   \n",
        "616         6437.335772  7229.128072       2    18     1233     1221   \n",
        "\n",
        "        screentime   intvlngth  \n",
        "caseid                          \n",
        "2298      18:26:36  110.492667  \n",
        "5012      16:30:59   64.294000  \n",
        "11586     18:19:09   75.149167  \n",
        "6794      15:54:43   28.642833  \n",
        "616       14:19:44   69.502667  \n",
        "\n",
        "[5 rows x 3087 columns]"
       ]
      }
     ],
     "prompt_number": 58
    },
    {
     "cell_type": "markdown",
     "metadata": {},
     "source": [
      "Now we can join the tables, using the `caseid` from each pregnancy record to find the corresponding respondent and (abstractly) copy over the additional variables.\n",
      "\n",
      "So the joined table has one row for each pregnancy and all the columns from both tables."
     ]
    },
    {
     "cell_type": "code",
     "collapsed": false,
     "input": [
      "join = live.join(resp, on='caseid', rsuffix='_r')\n",
      "join.shape"
     ],
     "language": "python",
     "metadata": {},
     "outputs": [
      {
       "metadata": {},
       "output_type": "pyout",
       "prompt_number": 59,
       "text": [
        "(7912, 3331)"
       ]
      }
     ],
     "prompt_number": 59
    },
    {
     "cell_type": "markdown",
     "metadata": {},
     "source": [
      "The encoding for `screentime` is a colon-separated timestamp."
     ]
    },
    {
     "cell_type": "code",
     "collapsed": false,
     "input": [
      "join.screentime.head()"
     ],
     "language": "python",
     "metadata": {},
     "outputs": [
      {
       "metadata": {},
       "output_type": "pyout",
       "prompt_number": 60,
       "text": [
        "0    19:56:43\n",
        "1    19:56:43\n",
        "2    14:54:03\n",
        "3    14:54:03\n",
        "4    14:54:03\n",
        "Name: screentime, dtype: object"
       ]
      }
     ],
     "prompt_number": 60
    },
    {
     "cell_type": "markdown",
     "metadata": {},
     "source": [
      "If we convert to a datetime object, we avoid some processing problems later."
     ]
    },
    {
     "cell_type": "code",
     "collapsed": false,
     "input": [
      "join.screentime = pd.to_datetime(join.screentime)\n",
      "join.screentime.head()"
     ],
     "language": "python",
     "metadata": {},
     "outputs": [
      {
       "metadata": {},
       "output_type": "pyout",
       "prompt_number": 62,
       "text": [
        "0   2015-09-17 19:56:43\n",
        "1   2015-09-17 19:56:43\n",
        "2   2015-09-17 14:54:03\n",
        "3   2015-09-17 14:54:03\n",
        "4   2015-09-17 14:54:03\n",
        "Name: screentime, dtype: datetime64[ns]"
       ]
      }
     ],
     "prompt_number": 62
    },
    {
     "cell_type": "markdown",
     "metadata": {},
     "source": [
      "To estimate the effect of mother's age on birthweight, we can use a simple least squares fit."
     ]
    },
    {
     "cell_type": "code",
     "collapsed": false,
     "input": [
      "ages = join.agepreg\n",
      "weights = join.totalwgt_lb\n",
      "\n",
      "inter, slope = thinkstats2.LeastSquares(ages, weights)\n",
      "inter, slope, slope*16*10"
     ],
     "language": "python",
     "metadata": {},
     "outputs": [
      {
       "metadata": {},
       "output_type": "pyout",
       "prompt_number": 106,
       "text": [
        "(7.0328792906633737, 0.017995378469939118, 2.879260555190259)"
       ]
      }
     ],
     "prompt_number": 106
    },
    {
     "cell_type": "markdown",
     "metadata": {},
     "source": [
      "The slope is almost 3 ounces per decade.\n",
      "\n",
      "We can do the same thing using Ordinary Least Squares from statsmodels:"
     ]
    },
    {
     "cell_type": "code",
     "collapsed": false,
     "input": [
      "import statsmodels.formula.api as smf\n",
      "\n",
      "formula = ('totalwgt_lb ~ agepreg')\n",
      "results = smf.ols(formula, data=join).fit()\n",
      "results.summary()"
     ],
     "language": "python",
     "metadata": {},
     "outputs": [
      {
       "html": [
        "<table class=\"simpletable\">\n",
        "<caption>OLS Regression Results</caption>\n",
        "<tr>\n",
        "  <th>Dep. Variable:</th>       <td>totalwgt_lb</td>   <th>  R-squared:         </th> <td>   0.007</td> \n",
        "</tr>\n",
        "<tr>\n",
        "  <th>Model:</th>                   <td>OLS</td>       <th>  Adj. R-squared:    </th> <td>   0.007</td> \n",
        "</tr>\n",
        "<tr>\n",
        "  <th>Method:</th>             <td>Least Squares</td>  <th>  F-statistic:       </th> <td>   57.60</td> \n",
        "</tr>\n",
        "<tr>\n",
        "  <th>Date:</th>             <td>Thu, 17 Sep 2015</td> <th>  Prob (F-statistic):</th> <td>3.58e-14</td> \n",
        "</tr>\n",
        "<tr>\n",
        "  <th>Time:</th>                 <td>15:23:25</td>     <th>  Log-Likelihood:    </th> <td> -12433.</td> \n",
        "</tr>\n",
        "<tr>\n",
        "  <th>No. Observations:</th>      <td>  7912</td>      <th>  AIC:               </th> <td>2.487e+04</td>\n",
        "</tr>\n",
        "<tr>\n",
        "  <th>Df Residuals:</th>          <td>  7910</td>      <th>  BIC:               </th> <td>2.488e+04</td>\n",
        "</tr>\n",
        "<tr>\n",
        "  <th>Df Model:</th>              <td>     1</td>      <th>                     </th>     <td> </td>    \n",
        "</tr>\n",
        "</table>\n",
        "<table class=\"simpletable\">\n",
        "<tr>\n",
        "      <td></td>         <th>coef</th>     <th>std err</th>      <th>t</th>      <th>P>|t|</th> <th>[95.0% Conf. Int.]</th> \n",
        "</tr>\n",
        "<tr>\n",
        "  <th>Intercept</th> <td>    7.0329</td> <td>    0.061</td> <td>  115.940</td> <td> 0.000</td> <td>    6.914     7.152</td>\n",
        "</tr>\n",
        "<tr>\n",
        "  <th>agepreg</th>   <td>    0.0180</td> <td>    0.002</td> <td>    7.589</td> <td> 0.000</td> <td>    0.013     0.023</td>\n",
        "</tr>\n",
        "</table>\n",
        "<table class=\"simpletable\">\n",
        "<tr>\n",
        "  <th>Omnibus:</th>       <td>381.292</td> <th>  Durbin-Watson:     </th> <td>   1.586</td> \n",
        "</tr>\n",
        "<tr>\n",
        "  <th>Prob(Omnibus):</th> <td> 0.000</td>  <th>  Jarque-Bera (JB):  </th> <td>1098.730</td> \n",
        "</tr>\n",
        "<tr>\n",
        "  <th>Skew:</th>          <td> 0.215</td>  <th>  Prob(JB):          </th> <td>2.59e-239</td>\n",
        "</tr>\n",
        "<tr>\n",
        "  <th>Kurtosis:</th>      <td> 4.774</td>  <th>  Cond. No.          </th> <td>    119.</td> \n",
        "</tr>\n",
        "</table>"
       ],
       "metadata": {},
       "output_type": "pyout",
       "prompt_number": 108,
       "text": [
        "<class 'statsmodels.iolib.summary.Summary'>\n",
        "\"\"\"\n",
        "                            OLS Regression Results                            \n",
        "==============================================================================\n",
        "Dep. Variable:            totalwgt_lb   R-squared:                       0.007\n",
        "Model:                            OLS   Adj. R-squared:                  0.007\n",
        "Method:                 Least Squares   F-statistic:                     57.60\n",
        "Date:                Thu, 17 Sep 2015   Prob (F-statistic):           3.58e-14\n",
        "Time:                        15:23:25   Log-Likelihood:                -12433.\n",
        "No. Observations:                7912   AIC:                         2.487e+04\n",
        "Df Residuals:                    7910   BIC:                         2.488e+04\n",
        "Df Model:                           1                                         \n",
        "==============================================================================\n",
        "                 coef    std err          t      P>|t|      [95.0% Conf. Int.]\n",
        "------------------------------------------------------------------------------\n",
        "Intercept      7.0329      0.061    115.940      0.000         6.914     7.152\n",
        "agepreg        0.0180      0.002      7.589      0.000         0.013     0.023\n",
        "==============================================================================\n",
        "Omnibus:                      381.292   Durbin-Watson:                   1.586\n",
        "Prob(Omnibus):                  0.000   Jarque-Bera (JB):             1098.730\n",
        "Skew:                           0.215   Prob(JB):                    2.59e-239\n",
        "Kurtosis:                       4.774   Cond. No.                         119.\n",
        "==============================================================================\n",
        "\"\"\""
       ]
      }
     ],
     "prompt_number": 108
    },
    {
     "cell_type": "markdown",
     "metadata": {},
     "source": [
      "The results object contains the parameters (and all the other info in the table):"
     ]
    },
    {
     "cell_type": "code",
     "collapsed": false,
     "input": [
      "inter, slope = results.params\n",
      "inter, slope"
     ],
     "language": "python",
     "metadata": {},
     "outputs": [
      {
       "metadata": {},
       "output_type": "pyout",
       "prompt_number": 109,
       "text": [
        "(7.032879290663371, 0.017995378469939035)"
       ]
      }
     ],
     "prompt_number": 109
    },
    {
     "cell_type": "markdown",
     "metadata": {},
     "source": [
      "And the results are consistent with my implementation:"
     ]
    },
    {
     "cell_type": "code",
     "collapsed": false,
     "input": [
      "slope * 16 * 10           # slope in ounces per decade"
     ],
     "language": "python",
     "metadata": {},
     "outputs": [
      {
       "metadata": {},
       "output_type": "pyout",
       "prompt_number": 69,
       "text": [
        "2.879260555190259"
       ]
      }
     ],
     "prompt_number": 69
    },
    {
     "cell_type": "markdown",
     "metadata": {},
     "source": [
      "We can use a boolean variable as a predictor:"
     ]
    },
    {
     "cell_type": "code",
     "collapsed": false,
     "input": [
      "join['isfirst'] = (join.birthord == 1)\n",
      "\n",
      "formula = 'totalwgt_lb ~ isfirst'\n",
      "results = smf.ols(formula, data=join).fit()\n",
      "results.summary()"
     ],
     "language": "python",
     "metadata": {},
     "outputs": [
      {
       "html": [
        "<table class=\"simpletable\">\n",
        "<caption>OLS Regression Results</caption>\n",
        "<tr>\n",
        "  <th>Dep. Variable:</th>       <td>totalwgt_lb</td>   <th>  R-squared:         </th> <td>   0.002</td> \n",
        "</tr>\n",
        "<tr>\n",
        "  <th>Model:</th>                   <td>OLS</td>       <th>  Adj. R-squared:    </th> <td>   0.001</td> \n",
        "</tr>\n",
        "<tr>\n",
        "  <th>Method:</th>             <td>Least Squares</td>  <th>  F-statistic:       </th> <td>   12.34</td> \n",
        "</tr>\n",
        "<tr>\n",
        "  <th>Date:</th>             <td>Thu, 17 Sep 2015</td> <th>  Prob (F-statistic):</th> <td>0.000445</td> \n",
        "</tr>\n",
        "<tr>\n",
        "  <th>Time:</th>                 <td>14:08:45</td>     <th>  Log-Likelihood:    </th> <td> -12456.</td> \n",
        "</tr>\n",
        "<tr>\n",
        "  <th>No. Observations:</th>      <td>  7912</td>      <th>  AIC:               </th> <td>2.492e+04</td>\n",
        "</tr>\n",
        "<tr>\n",
        "  <th>Df Residuals:</th>          <td>  7910</td>      <th>  BIC:               </th> <td>2.493e+04</td>\n",
        "</tr>\n",
        "<tr>\n",
        "  <th>Df Model:</th>              <td>     1</td>      <th>                     </th>     <td> </td>    \n",
        "</tr>\n",
        "</table>\n",
        "<table class=\"simpletable\">\n",
        "<tr>\n",
        "         <td></td>            <th>coef</th>     <th>std err</th>      <th>t</th>      <th>P>|t|</th> <th>[95.0% Conf. Int.]</th> \n",
        "</tr>\n",
        "<tr>\n",
        "  <th>Intercept</th>       <td>    7.5265</td> <td>    0.018</td> <td>  414.288</td> <td> 0.000</td> <td>    7.491     7.562</td>\n",
        "</tr>\n",
        "<tr>\n",
        "  <th>isfirst[T.True]</th> <td>   -0.0924</td> <td>    0.026</td> <td>   -3.513</td> <td> 0.000</td> <td>   -0.144    -0.041</td>\n",
        "</tr>\n",
        "</table>\n",
        "<table class=\"simpletable\">\n",
        "<tr>\n",
        "  <th>Omnibus:</th>       <td>364.721</td> <th>  Durbin-Watson:     </th> <td>   1.581</td> \n",
        "</tr>\n",
        "<tr>\n",
        "  <th>Prob(Omnibus):</th> <td> 0.000</td>  <th>  Jarque-Bera (JB):  </th> <td>1001.182</td> \n",
        "</tr>\n",
        "<tr>\n",
        "  <th>Skew:</th>          <td> 0.218</td>  <th>  Prob(JB):          </th> <td>3.95e-218</td>\n",
        "</tr>\n",
        "<tr>\n",
        "  <th>Kurtosis:</th>      <td> 4.687</td>  <th>  Cond. No.          </th> <td>    2.57</td> \n",
        "</tr>\n",
        "</table>"
       ],
       "metadata": {},
       "output_type": "pyout",
       "prompt_number": 76,
       "text": [
        "<class 'statsmodels.iolib.summary.Summary'>\n",
        "\"\"\"\n",
        "                            OLS Regression Results                            \n",
        "==============================================================================\n",
        "Dep. Variable:            totalwgt_lb   R-squared:                       0.002\n",
        "Model:                            OLS   Adj. R-squared:                  0.001\n",
        "Method:                 Least Squares   F-statistic:                     12.34\n",
        "Date:                Thu, 17 Sep 2015   Prob (F-statistic):           0.000445\n",
        "Time:                        14:08:45   Log-Likelihood:                -12456.\n",
        "No. Observations:                7912   AIC:                         2.492e+04\n",
        "Df Residuals:                    7910   BIC:                         2.493e+04\n",
        "Df Model:                           1                                         \n",
        "===================================================================================\n",
        "                      coef    std err          t      P>|t|      [95.0% Conf. Int.]\n",
        "-----------------------------------------------------------------------------------\n",
        "Intercept           7.5265      0.018    414.288      0.000         7.491     7.562\n",
        "isfirst[T.True]    -0.0924      0.026     -3.513      0.000        -0.144    -0.041\n",
        "==============================================================================\n",
        "Omnibus:                      364.721   Durbin-Watson:                   1.581\n",
        "Prob(Omnibus):                  0.000   Jarque-Bera (JB):             1001.182\n",
        "Skew:                           0.218   Prob(JB):                    3.95e-218\n",
        "Kurtosis:                       4.687   Cond. No.                         2.57\n",
        "==============================================================================\n",
        "\"\"\""
       ]
      }
     ],
     "prompt_number": 76
    },
    {
     "cell_type": "markdown",
     "metadata": {},
     "source": [
      "First babies are lighter by about 1.5 ounces."
     ]
    },
    {
     "cell_type": "code",
     "collapsed": false,
     "input": [
      "results.params['isfirst[T.True]'] * 16"
     ],
     "language": "python",
     "metadata": {},
     "outputs": [
      {
       "metadata": {},
       "output_type": "pyout",
       "prompt_number": 78,
       "text": [
        "-1.4779760012473198"
       ]
      }
     ],
     "prompt_number": 78
    },
    {
     "cell_type": "markdown",
     "metadata": {},
     "source": [
      "And we can make a model with multiple predictors."
     ]
    },
    {
     "cell_type": "code",
     "collapsed": false,
     "input": [
      "formula = 'totalwgt_lb ~ agepreg + isfirst'\n",
      "results = smf.ols(formula, data=join).fit()\n",
      "results.summary()"
     ],
     "language": "python",
     "metadata": {},
     "outputs": [
      {
       "html": [
        "<table class=\"simpletable\">\n",
        "<caption>OLS Regression Results</caption>\n",
        "<tr>\n",
        "  <th>Dep. Variable:</th>       <td>totalwgt_lb</td>   <th>  R-squared:         </th> <td>   0.007</td> \n",
        "</tr>\n",
        "<tr>\n",
        "  <th>Model:</th>                   <td>OLS</td>       <th>  Adj. R-squared:    </th> <td>   0.007</td> \n",
        "</tr>\n",
        "<tr>\n",
        "  <th>Method:</th>             <td>Least Squares</td>  <th>  F-statistic:       </th> <td>   29.50</td> \n",
        "</tr>\n",
        "<tr>\n",
        "  <th>Date:</th>             <td>Thu, 17 Sep 2015</td> <th>  Prob (F-statistic):</th> <td>1.72e-13</td> \n",
        "</tr>\n",
        "<tr>\n",
        "  <th>Time:</th>                 <td>14:11:45</td>     <th>  Log-Likelihood:    </th> <td> -12433.</td> \n",
        "</tr>\n",
        "<tr>\n",
        "  <th>No. Observations:</th>      <td>  7912</td>      <th>  AIC:               </th> <td>2.487e+04</td>\n",
        "</tr>\n",
        "<tr>\n",
        "  <th>Df Residuals:</th>          <td>  7909</td>      <th>  BIC:               </th> <td>2.489e+04</td>\n",
        "</tr>\n",
        "<tr>\n",
        "  <th>Df Model:</th>              <td>     2</td>      <th>                     </th>     <td> </td>    \n",
        "</tr>\n",
        "</table>\n",
        "<table class=\"simpletable\">\n",
        "<tr>\n",
        "         <td></td>            <th>coef</th>     <th>std err</th>      <th>t</th>      <th>P>|t|</th> <th>[95.0% Conf. Int.]</th> \n",
        "</tr>\n",
        "<tr>\n",
        "  <th>Intercept</th>       <td>    7.0719</td> <td>    0.069</td> <td>  102.463</td> <td> 0.000</td> <td>    6.937     7.207</td>\n",
        "</tr>\n",
        "<tr>\n",
        "  <th>isfirst[T.True]</th> <td>   -0.0327</td> <td>    0.028</td> <td>   -1.185</td> <td> 0.236</td> <td>   -0.087     0.021</td>\n",
        "</tr>\n",
        "<tr>\n",
        "  <th>agepreg</th>         <td>    0.0171</td> <td>    0.002</td> <td>    6.826</td> <td> 0.000</td> <td>    0.012     0.022</td>\n",
        "</tr>\n",
        "</table>\n",
        "<table class=\"simpletable\">\n",
        "<tr>\n",
        "  <th>Omnibus:</th>       <td>382.030</td> <th>  Durbin-Watson:     </th> <td>   1.585</td> \n",
        "</tr>\n",
        "<tr>\n",
        "  <th>Prob(Omnibus):</th> <td> 0.000</td>  <th>  Jarque-Bera (JB):  </th> <td>1103.586</td> \n",
        "</tr>\n",
        "<tr>\n",
        "  <th>Skew:</th>          <td> 0.214</td>  <th>  Prob(JB):          </th> <td>2.29e-240</td>\n",
        "</tr>\n",
        "<tr>\n",
        "  <th>Kurtosis:</th>      <td> 4.779</td>  <th>  Cond. No.          </th> <td>    138.</td> \n",
        "</tr>\n",
        "</table>"
       ],
       "metadata": {},
       "output_type": "pyout",
       "prompt_number": 87,
       "text": [
        "<class 'statsmodels.iolib.summary.Summary'>\n",
        "\"\"\"\n",
        "                            OLS Regression Results                            \n",
        "==============================================================================\n",
        "Dep. Variable:            totalwgt_lb   R-squared:                       0.007\n",
        "Model:                            OLS   Adj. R-squared:                  0.007\n",
        "Method:                 Least Squares   F-statistic:                     29.50\n",
        "Date:                Thu, 17 Sep 2015   Prob (F-statistic):           1.72e-13\n",
        "Time:                        14:11:45   Log-Likelihood:                -12433.\n",
        "No. Observations:                7912   AIC:                         2.487e+04\n",
        "Df Residuals:                    7909   BIC:                         2.489e+04\n",
        "Df Model:                           2                                         \n",
        "===================================================================================\n",
        "                      coef    std err          t      P>|t|      [95.0% Conf. Int.]\n",
        "-----------------------------------------------------------------------------------\n",
        "Intercept           7.0719      0.069    102.463      0.000         6.937     7.207\n",
        "isfirst[T.True]    -0.0327      0.028     -1.185      0.236        -0.087     0.021\n",
        "agepreg             0.0171      0.002      6.826      0.000         0.012     0.022\n",
        "==============================================================================\n",
        "Omnibus:                      382.030   Durbin-Watson:                   1.585\n",
        "Prob(Omnibus):                  0.000   Jarque-Bera (JB):             1103.586\n",
        "Skew:                           0.214   Prob(JB):                    2.29e-240\n",
        "Kurtosis:                       4.779   Cond. No.                         138.\n",
        "==============================================================================\n",
        "\"\"\""
       ]
      }
     ],
     "prompt_number": 87
    },
    {
     "cell_type": "markdown",
     "metadata": {},
     "source": [
      "If we control for mother's age, the difference in weight for first babies is cut to about 0.5 ounces (and no longer statistically significant)."
     ]
    },
    {
     "cell_type": "code",
     "collapsed": false,
     "input": [
      "results.params['isfirst[T.True]'] * 16"
     ],
     "language": "python",
     "metadata": {},
     "outputs": [
      {
       "metadata": {},
       "output_type": "pyout",
       "prompt_number": 88,
       "text": [
        "-0.52389693286041505"
       ]
      }
     ],
     "prompt_number": 88
    },
    {
     "cell_type": "markdown",
     "metadata": {},
     "source": [
      "The relationship with age might be non-linear.  Adding a quadratic term helps a little, although note that the R^2 values for all of these models are very small."
     ]
    },
    {
     "cell_type": "code",
     "collapsed": false,
     "input": [
      "join['age2'] = join.agepreg**2\n",
      "\n",
      "formula = 'totalwgt_lb ~ agepreg + age2'\n",
      "results = smf.ols(formula, data=join).fit()\n",
      "results.summary()"
     ],
     "language": "python",
     "metadata": {},
     "outputs": [
      {
       "html": [
        "<table class=\"simpletable\">\n",
        "<caption>OLS Regression Results</caption>\n",
        "<tr>\n",
        "  <th>Dep. Variable:</th>       <td>totalwgt_lb</td>   <th>  R-squared:         </th> <td>   0.009</td> \n",
        "</tr>\n",
        "<tr>\n",
        "  <th>Model:</th>                   <td>OLS</td>       <th>  Adj. R-squared:    </th> <td>   0.009</td> \n",
        "</tr>\n",
        "<tr>\n",
        "  <th>Method:</th>             <td>Least Squares</td>  <th>  F-statistic:       </th> <td>   37.48</td> \n",
        "</tr>\n",
        "<tr>\n",
        "  <th>Date:</th>             <td>Thu, 17 Sep 2015</td> <th>  Prob (F-statistic):</th> <td>6.30e-17</td> \n",
        "</tr>\n",
        "<tr>\n",
        "  <th>Time:</th>                 <td>14:11:51</td>     <th>  Log-Likelihood:    </th> <td> -12425.</td> \n",
        "</tr>\n",
        "<tr>\n",
        "  <th>No. Observations:</th>      <td>  7912</td>      <th>  AIC:               </th> <td>2.486e+04</td>\n",
        "</tr>\n",
        "<tr>\n",
        "  <th>Df Residuals:</th>          <td>  7909</td>      <th>  BIC:               </th> <td>2.488e+04</td>\n",
        "</tr>\n",
        "<tr>\n",
        "  <th>Df Model:</th>              <td>     2</td>      <th>                     </th>     <td> </td>    \n",
        "</tr>\n",
        "</table>\n",
        "<table class=\"simpletable\">\n",
        "<tr>\n",
        "      <td></td>         <th>coef</th>     <th>std err</th>      <th>t</th>      <th>P>|t|</th> <th>[95.0% Conf. Int.]</th> \n",
        "</tr>\n",
        "<tr>\n",
        "  <th>Intercept</th> <td>    6.0378</td> <td>    0.247</td> <td>   24.428</td> <td> 0.000</td> <td>    5.553     6.522</td>\n",
        "</tr>\n",
        "<tr>\n",
        "  <th>agepreg</th>   <td>    0.0979</td> <td>    0.019</td> <td>    5.050</td> <td> 0.000</td> <td>    0.060     0.136</td>\n",
        "</tr>\n",
        "<tr>\n",
        "  <th>age2</th>      <td>   -0.0015</td> <td>    0.000</td> <td>   -4.153</td> <td> 0.000</td> <td>   -0.002    -0.001</td>\n",
        "</tr>\n",
        "</table>\n",
        "<table class=\"simpletable\">\n",
        "<tr>\n",
        "  <th>Omnibus:</th>       <td>378.969</td> <th>  Durbin-Watson:     </th> <td>   1.587</td> \n",
        "</tr>\n",
        "<tr>\n",
        "  <th>Prob(Omnibus):</th> <td> 0.000</td>  <th>  Jarque-Bera (JB):  </th> <td>1074.412</td> \n",
        "</tr>\n",
        "<tr>\n",
        "  <th>Skew:</th>          <td> 0.219</td>  <th>  Prob(JB):          </th> <td>4.95e-234</td>\n",
        "</tr>\n",
        "<tr>\n",
        "  <th>Kurtosis:</th>      <td> 4.751</td>  <th>  Cond. No.          </th> <td>1.36e+04</td> \n",
        "</tr>\n",
        "</table>"
       ],
       "metadata": {},
       "output_type": "pyout",
       "prompt_number": 89,
       "text": [
        "<class 'statsmodels.iolib.summary.Summary'>\n",
        "\"\"\"\n",
        "                            OLS Regression Results                            \n",
        "==============================================================================\n",
        "Dep. Variable:            totalwgt_lb   R-squared:                       0.009\n",
        "Model:                            OLS   Adj. R-squared:                  0.009\n",
        "Method:                 Least Squares   F-statistic:                     37.48\n",
        "Date:                Thu, 17 Sep 2015   Prob (F-statistic):           6.30e-17\n",
        "Time:                        14:11:51   Log-Likelihood:                -12425.\n",
        "No. Observations:                7912   AIC:                         2.486e+04\n",
        "Df Residuals:                    7909   BIC:                         2.488e+04\n",
        "Df Model:                           2                                         \n",
        "==============================================================================\n",
        "                 coef    std err          t      P>|t|      [95.0% Conf. Int.]\n",
        "------------------------------------------------------------------------------\n",
        "Intercept      6.0378      0.247     24.428      0.000         5.553     6.522\n",
        "agepreg        0.0979      0.019      5.050      0.000         0.060     0.136\n",
        "age2          -0.0015      0.000     -4.153      0.000        -0.002    -0.001\n",
        "==============================================================================\n",
        "Omnibus:                      378.969   Durbin-Watson:                   1.587\n",
        "Prob(Omnibus):                  0.000   Jarque-Bera (JB):             1074.412\n",
        "Skew:                           0.219   Prob(JB):                    4.95e-234\n",
        "Kurtosis:                       4.751   Cond. No.                     1.36e+04\n",
        "==============================================================================\n",
        "\n",
        "Warnings:\n",
        "[1] The condition number is large, 1.36e+04. This might indicate that there are\n",
        "strong multicollinearity or other numerical problems.\n",
        "\"\"\""
       ]
      }
     ],
     "prompt_number": 89
    },
    {
     "cell_type": "markdown",
     "metadata": {},
     "source": [
      "Now we can combine the quadratic age model with `isfirst`"
     ]
    },
    {
     "cell_type": "code",
     "collapsed": false,
     "input": [
      "formula = 'totalwgt_lb ~ agepreg + age2 + isfirst'\n",
      "results = smf.ols(formula, data=join).fit()\n",
      "results.summary()"
     ],
     "language": "python",
     "metadata": {},
     "outputs": [
      {
       "html": [
        "<table class=\"simpletable\">\n",
        "<caption>OLS Regression Results</caption>\n",
        "<tr>\n",
        "  <th>Dep. Variable:</th>       <td>totalwgt_lb</td>   <th>  R-squared:         </th> <td>   0.009</td> \n",
        "</tr>\n",
        "<tr>\n",
        "  <th>Model:</th>                   <td>OLS</td>       <th>  Adj. R-squared:    </th> <td>   0.009</td> \n",
        "</tr>\n",
        "<tr>\n",
        "  <th>Method:</th>             <td>Least Squares</td>  <th>  F-statistic:       </th> <td>   25.12</td> \n",
        "</tr>\n",
        "<tr>\n",
        "  <th>Date:</th>             <td>Thu, 17 Sep 2015</td> <th>  Prob (F-statistic):</th> <td>3.61e-16</td> \n",
        "</tr>\n",
        "<tr>\n",
        "  <th>Time:</th>                 <td>14:12:03</td>     <th>  Log-Likelihood:    </th> <td> -12425.</td> \n",
        "</tr>\n",
        "<tr>\n",
        "  <th>No. Observations:</th>      <td>  7912</td>      <th>  AIC:               </th> <td>2.486e+04</td>\n",
        "</tr>\n",
        "<tr>\n",
        "  <th>Df Residuals:</th>          <td>  7908</td>      <th>  BIC:               </th> <td>2.488e+04</td>\n",
        "</tr>\n",
        "<tr>\n",
        "  <th>Df Model:</th>              <td>     3</td>      <th>                     </th>     <td> </td>    \n",
        "</tr>\n",
        "</table>\n",
        "<table class=\"simpletable\">\n",
        "<tr>\n",
        "         <td></td>            <th>coef</th>     <th>std err</th>      <th>t</th>      <th>P>|t|</th> <th>[95.0% Conf. Int.]</th> \n",
        "</tr>\n",
        "<tr>\n",
        "  <th>Intercept</th>       <td>    6.0795</td> <td>    0.256</td> <td>   23.775</td> <td> 0.000</td> <td>    5.578     6.581</td>\n",
        "</tr>\n",
        "<tr>\n",
        "  <th>isfirst[T.True]</th> <td>   -0.0177</td> <td>    0.028</td> <td>   -0.637</td> <td> 0.524</td> <td>   -0.072     0.037</td>\n",
        "</tr>\n",
        "<tr>\n",
        "  <th>agepreg</th>         <td>    0.0957</td> <td>    0.020</td> <td>    4.865</td> <td> 0.000</td> <td>    0.057     0.134</td>\n",
        "</tr>\n",
        "<tr>\n",
        "  <th>age2</th>            <td>   -0.0015</td> <td>    0.000</td> <td>   -4.030</td> <td> 0.000</td> <td>   -0.002    -0.001</td>\n",
        "</tr>\n",
        "</table>\n",
        "<table class=\"simpletable\">\n",
        "<tr>\n",
        "  <th>Omnibus:</th>       <td>379.403</td> <th>  Durbin-Watson:     </th> <td>   1.586</td> \n",
        "</tr>\n",
        "<tr>\n",
        "  <th>Prob(Omnibus):</th> <td> 0.000</td>  <th>  Jarque-Bera (JB):  </th> <td>1077.436</td> \n",
        "</tr>\n",
        "<tr>\n",
        "  <th>Skew:</th>          <td> 0.219</td>  <th>  Prob(JB):          </th> <td>1.09e-234</td>\n",
        "</tr>\n",
        "<tr>\n",
        "  <th>Kurtosis:</th>      <td> 4.754</td>  <th>  Cond. No.          </th> <td>1.41e+04</td> \n",
        "</tr>\n",
        "</table>"
       ],
       "metadata": {},
       "output_type": "pyout",
       "prompt_number": 90,
       "text": [
        "<class 'statsmodels.iolib.summary.Summary'>\n",
        "\"\"\"\n",
        "                            OLS Regression Results                            \n",
        "==============================================================================\n",
        "Dep. Variable:            totalwgt_lb   R-squared:                       0.009\n",
        "Model:                            OLS   Adj. R-squared:                  0.009\n",
        "Method:                 Least Squares   F-statistic:                     25.12\n",
        "Date:                Thu, 17 Sep 2015   Prob (F-statistic):           3.61e-16\n",
        "Time:                        14:12:03   Log-Likelihood:                -12425.\n",
        "No. Observations:                7912   AIC:                         2.486e+04\n",
        "Df Residuals:                    7908   BIC:                         2.488e+04\n",
        "Df Model:                           3                                         \n",
        "===================================================================================\n",
        "                      coef    std err          t      P>|t|      [95.0% Conf. Int.]\n",
        "-----------------------------------------------------------------------------------\n",
        "Intercept           6.0795      0.256     23.775      0.000         5.578     6.581\n",
        "isfirst[T.True]    -0.0177      0.028     -0.637      0.524        -0.072     0.037\n",
        "agepreg             0.0957      0.020      4.865      0.000         0.057     0.134\n",
        "age2               -0.0015      0.000     -4.030      0.000        -0.002    -0.001\n",
        "==============================================================================\n",
        "Omnibus:                      379.403   Durbin-Watson:                   1.586\n",
        "Prob(Omnibus):                  0.000   Jarque-Bera (JB):             1077.436\n",
        "Skew:                           0.219   Prob(JB):                    1.09e-234\n",
        "Kurtosis:                       4.754   Cond. No.                     1.41e+04\n",
        "==============================================================================\n",
        "\n",
        "Warnings:\n",
        "[1] The condition number is large, 1.41e+04. This might indicate that there are\n",
        "strong multicollinearity or other numerical problems.\n",
        "\"\"\""
       ]
      }
     ],
     "prompt_number": 90
    },
    {
     "cell_type": "markdown",
     "metadata": {},
     "source": [
      "Now the effect is cut to less that a third of an ounce, and very plausibly due to chance."
     ]
    },
    {
     "cell_type": "code",
     "collapsed": false,
     "input": [
      "results.params['isfirst[T.True]'] * 16"
     ],
     "language": "python",
     "metadata": {},
     "outputs": [
      {
       "metadata": {},
       "output_type": "pyout",
       "prompt_number": 91,
       "text": [
        "-0.28383607712278636"
       ]
      }
     ],
     "prompt_number": 91
    },
    {
     "cell_type": "markdown",
     "metadata": {},
     "source": [
      "Here's the best model I found, combining all variables that seemed plausibly predictive."
     ]
    },
    {
     "cell_type": "code",
     "collapsed": false,
     "input": [
      "formula = ('totalwgt_lb ~ agepreg + age2 + C(race) + '\n",
      "           'nbrnaliv>1 + paydu==1 + totincr')\n",
      "results = smf.ols(formula, data=join).fit()\n",
      "results.summary()"
     ],
     "language": "python",
     "metadata": {},
     "outputs": [
      {
       "html": [
        "<table class=\"simpletable\">\n",
        "<caption>OLS Regression Results</caption>\n",
        "<tr>\n",
        "  <th>Dep. Variable:</th>       <td>totalwgt_lb</td>   <th>  R-squared:         </th> <td>   0.046</td> \n",
        "</tr>\n",
        "<tr>\n",
        "  <th>Model:</th>                   <td>OLS</td>       <th>  Adj. R-squared:    </th> <td>   0.045</td> \n",
        "</tr>\n",
        "<tr>\n",
        "  <th>Method:</th>             <td>Least Squares</td>  <th>  F-statistic:       </th> <td>   54.63</td> \n",
        "</tr>\n",
        "<tr>\n",
        "  <th>Date:</th>             <td>Thu, 17 Sep 2015</td> <th>  Prob (F-statistic):</th> <td>1.11e-76</td> \n",
        "</tr>\n",
        "<tr>\n",
        "  <th>Time:</th>                 <td>14:12:57</td>     <th>  Log-Likelihood:    </th> <td> -12275.</td> \n",
        "</tr>\n",
        "<tr>\n",
        "  <th>No. Observations:</th>      <td>  7912</td>      <th>  AIC:               </th> <td>2.457e+04</td>\n",
        "</tr>\n",
        "<tr>\n",
        "  <th>Df Residuals:</th>          <td>  7904</td>      <th>  BIC:               </th> <td>2.462e+04</td>\n",
        "</tr>\n",
        "<tr>\n",
        "  <th>Df Model:</th>              <td>     7</td>      <th>                     </th>     <td> </td>    \n",
        "</tr>\n",
        "</table>\n",
        "<table class=\"simpletable\">\n",
        "<tr>\n",
        "            <td></td>              <th>coef</th>     <th>std err</th>      <th>t</th>      <th>P>|t|</th> <th>[95.0% Conf. Int.]</th> \n",
        "</tr>\n",
        "<tr>\n",
        "  <th>Intercept</th>            <td>    6.0829</td> <td>    0.243</td> <td>   25.022</td> <td> 0.000</td> <td>    5.606     6.559</td>\n",
        "</tr>\n",
        "<tr>\n",
        "  <th>C(race)[T.2]</th>         <td>    0.3625</td> <td>    0.031</td> <td>   11.649</td> <td> 0.000</td> <td>    0.302     0.424</td>\n",
        "</tr>\n",
        "<tr>\n",
        "  <th>C(race)[T.3]</th>         <td>    0.2434</td> <td>    0.050</td> <td>    4.833</td> <td> 0.000</td> <td>    0.145     0.342</td>\n",
        "</tr>\n",
        "<tr>\n",
        "  <th>nbrnaliv > 1[T.True]</th> <td>   -1.0779</td> <td>    0.121</td> <td>   -8.889</td> <td> 0.000</td> <td>   -1.316    -0.840</td>\n",
        "</tr>\n",
        "<tr>\n",
        "  <th>paydu == 1[T.True]</th>   <td>    0.0985</td> <td>    0.030</td> <td>    3.255</td> <td> 0.001</td> <td>    0.039     0.158</td>\n",
        "</tr>\n",
        "<tr>\n",
        "  <th>agepreg</th>              <td>    0.0714</td> <td>    0.019</td> <td>    3.741</td> <td> 0.000</td> <td>    0.034     0.109</td>\n",
        "</tr>\n",
        "<tr>\n",
        "  <th>age2</th>                 <td>   -0.0012</td> <td>    0.000</td> <td>   -3.341</td> <td> 0.001</td> <td>   -0.002    -0.000</td>\n",
        "</tr>\n",
        "<tr>\n",
        "  <th>totincr</th>              <td>    0.0132</td> <td>    0.004</td> <td>    3.452</td> <td> 0.001</td> <td>    0.006     0.021</td>\n",
        "</tr>\n",
        "</table>\n",
        "<table class=\"simpletable\">\n",
        "<tr>\n",
        "  <th>Omnibus:</th>       <td>453.110</td> <th>  Durbin-Watson:     </th> <td>   1.609</td> \n",
        "</tr>\n",
        "<tr>\n",
        "  <th>Prob(Omnibus):</th> <td> 0.000</td>  <th>  Jarque-Bera (JB):  </th> <td>1254.734</td> \n",
        "</tr>\n",
        "<tr>\n",
        "  <th>Skew:</th>          <td> 0.300</td>  <th>  Prob(JB):          </th> <td>3.45e-273</td>\n",
        "</tr>\n",
        "<tr>\n",
        "  <th>Kurtosis:</th>      <td> 4.856</td>  <th>  Cond. No.          </th> <td>1.36e+04</td> \n",
        "</tr>\n",
        "</table>"
       ],
       "metadata": {},
       "output_type": "pyout",
       "prompt_number": 93,
       "text": [
        "<class 'statsmodels.iolib.summary.Summary'>\n",
        "\"\"\"\n",
        "                            OLS Regression Results                            \n",
        "==============================================================================\n",
        "Dep. Variable:            totalwgt_lb   R-squared:                       0.046\n",
        "Model:                            OLS   Adj. R-squared:                  0.045\n",
        "Method:                 Least Squares   F-statistic:                     54.63\n",
        "Date:                Thu, 17 Sep 2015   Prob (F-statistic):           1.11e-76\n",
        "Time:                        14:12:57   Log-Likelihood:                -12275.\n",
        "No. Observations:                7912   AIC:                         2.457e+04\n",
        "Df Residuals:                    7904   BIC:                         2.462e+04\n",
        "Df Model:                           7                                         \n",
        "========================================================================================\n",
        "                           coef    std err          t      P>|t|      [95.0% Conf. Int.]\n",
        "----------------------------------------------------------------------------------------\n",
        "Intercept                6.0829      0.243     25.022      0.000         5.606     6.559\n",
        "C(race)[T.2]             0.3625      0.031     11.649      0.000         0.302     0.424\n",
        "C(race)[T.3]             0.2434      0.050      4.833      0.000         0.145     0.342\n",
        "nbrnaliv > 1[T.True]    -1.0779      0.121     -8.889      0.000        -1.316    -0.840\n",
        "paydu == 1[T.True]       0.0985      0.030      3.255      0.001         0.039     0.158\n",
        "agepreg                  0.0714      0.019      3.741      0.000         0.034     0.109\n",
        "age2                    -0.0012      0.000     -3.341      0.001        -0.002    -0.000\n",
        "totincr                  0.0132      0.004      3.452      0.001         0.006     0.021\n",
        "==============================================================================\n",
        "Omnibus:                      453.110   Durbin-Watson:                   1.609\n",
        "Prob(Omnibus):                  0.000   Jarque-Bera (JB):             1254.734\n",
        "Skew:                           0.300   Prob(JB):                    3.45e-273\n",
        "Kurtosis:                       4.856   Cond. No.                     1.36e+04\n",
        "==============================================================================\n",
        "\n",
        "Warnings:\n",
        "[1] The condition number is large, 1.36e+04. This might indicate that there are\n",
        "strong multicollinearity or other numerical problems.\n",
        "\"\"\""
       ]
      }
     ],
     "prompt_number": 93
    },
    {
     "cell_type": "markdown",
     "metadata": {},
     "source": [
      "All predictors are statistically significant, so the effects could be legit, but the R^2 value is still very small: this model doesn't provide much help for the office pool."
     ]
    },
    {
     "cell_type": "markdown",
     "metadata": {},
     "source": [
      "Logistic regression\n",
      "-------------------\n",
      "\n",
      "Let's say we want to predict the sex of a baby based on information about the mother.\n",
      "\n",
      "I'll start by creating a binary dependent variable, `isboy`, and checking for dependence on mother's age:"
     ]
    },
    {
     "cell_type": "code",
     "collapsed": false,
     "input": [
      "live['isboy'] = (live.babysex==1).astype(int)\n",
      "model = smf.logit('isboy ~ agepreg', data=live)    \n",
      "results = model.fit()\n",
      "results.summary()"
     ],
     "language": "python",
     "metadata": {},
     "outputs": [
      {
       "output_type": "stream",
       "stream": "stdout",
       "text": [
        "Optimization terminated successfully.\n",
        "         Current function value: 0.692981\n",
        "         Iterations 3\n"
       ]
      },
      {
       "html": [
        "<table class=\"simpletable\">\n",
        "<caption>Logit Regression Results</caption>\n",
        "<tr>\n",
        "  <th>Dep. Variable:</th>       <td>isboy</td>      <th>  No. Observations:  </th>  <td>  7912</td>  \n",
        "</tr>\n",
        "<tr>\n",
        "  <th>Model:</th>               <td>Logit</td>      <th>  Df Residuals:      </th>  <td>  7910</td>  \n",
        "</tr>\n",
        "<tr>\n",
        "  <th>Method:</th>               <td>MLE</td>       <th>  Df Model:          </th>  <td>     1</td>  \n",
        "</tr>\n",
        "<tr>\n",
        "  <th>Date:</th>          <td>Thu, 17 Sep 2015</td> <th>  Pseudo R-squ.:     </th> <td>1.352e-05</td>\n",
        "</tr>\n",
        "<tr>\n",
        "  <th>Time:</th>              <td>15:30:01</td>     <th>  Log-Likelihood:    </th> <td> -5482.9</td> \n",
        "</tr>\n",
        "<tr>\n",
        "  <th>converged:</th>           <td>True</td>       <th>  LL-Null:           </th> <td> -5482.9</td> \n",
        "</tr>\n",
        "<tr>\n",
        "  <th> </th>                      <td> </td>        <th>  LLR p-value:       </th>  <td>0.7002</td>  \n",
        "</tr>\n",
        "</table>\n",
        "<table class=\"simpletable\">\n",
        "<tr>\n",
        "      <td></td>         <th>coef</th>     <th>std err</th>      <th>z</th>      <th>P>|z|</th> <th>[95.0% Conf. Int.]</th> \n",
        "</tr>\n",
        "<tr>\n",
        "  <th>Intercept</th> <td>   -0.0038</td> <td>    0.104</td> <td>   -0.036</td> <td> 0.971</td> <td>   -0.208     0.200</td>\n",
        "</tr>\n",
        "<tr>\n",
        "  <th>agepreg</th>   <td>    0.0016</td> <td>    0.004</td> <td>    0.385</td> <td> 0.700</td> <td>   -0.006     0.010</td>\n",
        "</tr>\n",
        "</table>"
       ],
       "metadata": {},
       "output_type": "pyout",
       "prompt_number": 110,
       "text": [
        "<class 'statsmodels.iolib.summary.Summary'>\n",
        "\"\"\"\n",
        "                           Logit Regression Results                           \n",
        "==============================================================================\n",
        "Dep. Variable:                  isboy   No. Observations:                 7912\n",
        "Model:                          Logit   Df Residuals:                     7910\n",
        "Method:                           MLE   Df Model:                            1\n",
        "Date:                Thu, 17 Sep 2015   Pseudo R-squ.:               1.352e-05\n",
        "Time:                        15:30:01   Log-Likelihood:                -5482.9\n",
        "converged:                       True   LL-Null:                       -5482.9\n",
        "                                        LLR p-value:                    0.7002\n",
        "==============================================================================\n",
        "                 coef    std err          z      P>|z|      [95.0% Conf. Int.]\n",
        "------------------------------------------------------------------------------\n",
        "Intercept     -0.0038      0.104     -0.036      0.971        -0.208     0.200\n",
        "agepreg        0.0016      0.004      0.385      0.700        -0.006     0.010\n",
        "==============================================================================\n",
        "\"\"\""
       ]
      }
     ],
     "prompt_number": 110
    },
    {
     "cell_type": "markdown",
     "metadata": {},
     "source": []
    },
    {
     "cell_type": "code",
     "collapsed": false,
     "input": [
      "log_odds_ratio = results.params['agepreg'] * 10\n",
      "odds_ratio = np.exp(log_odds_ratio)\n",
      "odds_ratio"
     ],
     "language": "python",
     "metadata": {},
     "outputs": [
      {
       "metadata": {},
       "output_type": "pyout",
       "prompt_number": 95,
       "text": [
        "1.015802374046729"
       ]
      }
     ],
     "prompt_number": 95
    },
    {
     "cell_type": "markdown",
     "metadata": {},
     "source": []
    },
    {
     "cell_type": "code",
     "collapsed": false,
     "input": [
      "p = 0.51\n",
      "prior_odds = p / (1-p)\n",
      "post_odds = prior_odds * odds_ratio\n",
      "p = post_odds / (post_odds + 1)\n",
      "p"
     ],
     "language": "python",
     "metadata": {},
     "outputs": [
      {
       "metadata": {},
       "output_type": "pyout",
       "prompt_number": 96,
       "text": [
        "0.51391744178527499"
       ]
      }
     ],
     "prompt_number": 96
    },
    {
     "cell_type": "markdown",
     "metadata": {},
     "source": []
    },
    {
     "cell_type": "code",
     "collapsed": false,
     "input": [
      "formula = 'isboy ~ agepreg + hpagelb + birthord + C(race)'\n",
      "model = smf.logit(formula, data=live)\n",
      "results = model.fit()\n",
      "results.summary()"
     ],
     "language": "python",
     "metadata": {},
     "outputs": [
      {
       "output_type": "stream",
       "stream": "stdout",
       "text": [
        "Optimization terminated successfully.\n",
        "         Current function value: 0.692727\n",
        "         Iterations 3\n"
       ]
      },
      {
       "html": [
        "<table class=\"simpletable\">\n",
        "<caption>Logit Regression Results</caption>\n",
        "<tr>\n",
        "  <th>Dep. Variable:</th>       <td>isboy</td>      <th>  No. Observations:  </th>  <td>  7826</td>  \n",
        "</tr>\n",
        "<tr>\n",
        "  <th>Model:</th>               <td>Logit</td>      <th>  Df Residuals:      </th>  <td>  7820</td>  \n",
        "</tr>\n",
        "<tr>\n",
        "  <th>Method:</th>               <td>MLE</td>       <th>  Df Model:          </th>  <td>     5</td>  \n",
        "</tr>\n",
        "<tr>\n",
        "  <th>Date:</th>          <td>Thu, 17 Sep 2015</td> <th>  Pseudo R-squ.:     </th> <td>0.0004249</td>\n",
        "</tr>\n",
        "<tr>\n",
        "  <th>Time:</th>              <td>15:30:09</td>     <th>  Log-Likelihood:    </th> <td> -5421.3</td> \n",
        "</tr>\n",
        "<tr>\n",
        "  <th>converged:</th>           <td>True</td>       <th>  LL-Null:           </th> <td> -5423.6</td> \n",
        "</tr>\n",
        "<tr>\n",
        "  <th> </th>                      <td> </td>        <th>  LLR p-value:       </th>  <td>0.4654</td>  \n",
        "</tr>\n",
        "</table>\n",
        "<table class=\"simpletable\">\n",
        "<tr>\n",
        "        <td></td>          <th>coef</th>     <th>std err</th>      <th>z</th>      <th>P>|z|</th> <th>[95.0% Conf. Int.]</th> \n",
        "</tr>\n",
        "<tr>\n",
        "  <th>Intercept</th>    <td>   -0.0639</td> <td>    0.111</td> <td>   -0.575</td> <td> 0.565</td> <td>   -0.282     0.154</td>\n",
        "</tr>\n",
        "<tr>\n",
        "  <th>C(race)[T.2]</th> <td>   -0.0135</td> <td>    0.054</td> <td>   -0.250</td> <td> 0.803</td> <td>   -0.120     0.092</td>\n",
        "</tr>\n",
        "<tr>\n",
        "  <th>C(race)[T.3]</th> <td>   -0.0158</td> <td>    0.089</td> <td>   -0.178</td> <td> 0.859</td> <td>   -0.190     0.158</td>\n",
        "</tr>\n",
        "<tr>\n",
        "  <th>agepreg</th>      <td>   -0.0056</td> <td>    0.006</td> <td>   -0.963</td> <td> 0.336</td> <td>   -0.017     0.006</td>\n",
        "</tr>\n",
        "<tr>\n",
        "  <th>hpagelb</th>      <td>    0.0069</td> <td>    0.004</td> <td>    1.542</td> <td> 0.123</td> <td>   -0.002     0.016</td>\n",
        "</tr>\n",
        "<tr>\n",
        "  <th>birthord</th>     <td>    0.0297</td> <td>    0.024</td> <td>    1.264</td> <td> 0.206</td> <td>   -0.016     0.076</td>\n",
        "</tr>\n",
        "</table>"
       ],
       "metadata": {},
       "output_type": "pyout",
       "prompt_number": 111,
       "text": [
        "<class 'statsmodels.iolib.summary.Summary'>\n",
        "\"\"\"\n",
        "                           Logit Regression Results                           \n",
        "==============================================================================\n",
        "Dep. Variable:                  isboy   No. Observations:                 7826\n",
        "Model:                          Logit   Df Residuals:                     7820\n",
        "Method:                           MLE   Df Model:                            5\n",
        "Date:                Thu, 17 Sep 2015   Pseudo R-squ.:               0.0004249\n",
        "Time:                        15:30:09   Log-Likelihood:                -5421.3\n",
        "converged:                       True   LL-Null:                       -5423.6\n",
        "                                        LLR p-value:                    0.4654\n",
        "================================================================================\n",
        "                   coef    std err          z      P>|z|      [95.0% Conf. Int.]\n",
        "--------------------------------------------------------------------------------\n",
        "Intercept       -0.0639      0.111     -0.575      0.565        -0.282     0.154\n",
        "C(race)[T.2]    -0.0135      0.054     -0.250      0.803        -0.120     0.092\n",
        "C(race)[T.3]    -0.0158      0.089     -0.178      0.859        -0.190     0.158\n",
        "agepreg         -0.0056      0.006     -0.963      0.336        -0.017     0.006\n",
        "hpagelb          0.0069      0.004      1.542      0.123        -0.002     0.016\n",
        "birthord         0.0297      0.024      1.264      0.206        -0.016     0.076\n",
        "================================================================================\n",
        "\"\"\""
       ]
      }
     ],
     "prompt_number": 111
    },
    {
     "cell_type": "markdown",
     "metadata": {},
     "source": []
    },
    {
     "cell_type": "code",
     "collapsed": false,
     "input": [
      "exog = pd.DataFrame(model.exog, columns=model.exog_names)\n",
      "endog = pd.DataFrame(model.endog, columns=[model.endog_names])\n",
      "\n",
      "actual = endog['isboy']\n",
      "baseline = actual.mean()\n",
      "baseline"
     ],
     "language": "python",
     "metadata": {},
     "outputs": [
      {
       "metadata": {},
       "output_type": "pyout",
       "prompt_number": 112,
       "text": [
        "0.5079223102478917"
       ]
      }
     ],
     "prompt_number": 112
    },
    {
     "cell_type": "markdown",
     "metadata": {},
     "source": []
    },
    {
     "cell_type": "code",
     "collapsed": false,
     "input": [
      "predict = (results.predict() >= 0.5)\n",
      "true_pos = predict * actual\n",
      "true_neg = (1 - predict) * (1 - actual)\n",
      "\n",
      "acc = (sum(true_pos) + sum(true_neg)) / len(actual)\n",
      "acc"
     ],
     "language": "python",
     "metadata": {},
     "outputs": [
      {
       "metadata": {},
       "output_type": "pyout",
       "prompt_number": 113,
       "text": [
        "0.51316125734730389"
       ]
      }
     ],
     "prompt_number": 113
    },
    {
     "cell_type": "markdown",
     "metadata": {},
     "source": []
    },
    {
     "cell_type": "code",
     "collapsed": false,
     "input": [
      "columns = ['agepreg', 'hpagelb', 'birthord', 'race']\n",
      "new = pd.DataFrame([[39, 30, 1, 2]], columns=columns)\n",
      "y = results.predict(new)\n",
      "y"
     ],
     "language": "python",
     "metadata": {},
     "outputs": [
      {
       "metadata": {},
       "output_type": "pyout",
       "prompt_number": 105,
       "text": [
        "array([ 0.48485192])"
       ]
      }
     ],
     "prompt_number": 105
    },
    {
     "cell_type": "markdown",
     "metadata": {},
     "source": []
    },
    {
     "cell_type": "code",
     "collapsed": false,
     "input": [],
     "language": "python",
     "metadata": {},
     "outputs": []
    },
    {
     "cell_type": "markdown",
     "metadata": {},
     "source": []
    }
   ],
   "metadata": {}
  }
 ]
}